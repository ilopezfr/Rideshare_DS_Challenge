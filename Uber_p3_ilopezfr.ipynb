{
 "cells": [
  {
   "cell_type": "markdown",
   "metadata": {},
   "source": [
    "## Part 3 ­ Data analysis\n",
    "*[5 points]*\n",
    "\n",
    "Uber’s Driver team is interested in predicting which driver signups are most likely to start driving. To help explore this question, we have provided a sample1 dataset of a cohort of driver signups in January 2015. The data was pulled a few months after they signed up to include the result of whether they actually completed their first trip. It also includes several pieces of background information gather about the driver and their car.\n",
    "We would like you to use this data set to help understand what factors are best at predicting whether a signup will start to drive, and offer suggestions to operationalize those insights to help Uber.\n",
    "See below for a detailed description of the dataset. Please include any code you wrote for the analysis and delete the dataset when you have finished with the challenge. Please also call out any data related assumptions or issues that you encounter.\n",
    "1. Perform any cleaning, exploratory analysis, and/or visualizations to use the provided data for this analysis (a few sentences/plots describing your approach will suffice). What fraction of the driver signups took a first trip? (2 points)\n",
    "2. Build a predictive model to help Uber determine whether or not a driver signup will start driving. Discuss why you chose your approach, what alternatives you considered, and any concerns you have. How valid is your model? Include any key indicators of model performance. (2 points)\n",
    "3. Briefly discuss how Uber might leverage the insights gained from the model to generate more first trips (again, a few ideas/sentences will suffice). (1 point)"
   ]
  },
  {
   "cell_type": "markdown",
   "metadata": {},
   "source": [
    "| Variable         | Description       |\n",
    "|------------------|-------------------|\n",
    "|id: | driver_id|\n",
    "|city_id : |city_id this user signed up in|\n",
    "|signup_os : |signup device of the user (“android”, “ios”, “website”, “other”)|\n",
    "|signup_channel : |what channel did the driver sign up from (“offline”, “paid”, “organic”, “referral”) |\n",
    "|signup_timestamp : |timestamp of account creation; local time in the form ‘YYYY­MM­DD’ |\n",
    "|bgc_date : |date of background check consent; in the form ‘YYYY­MM­DD’|\n",
    "|vehicle_added_date : |date when driver’s vehicle information was uploaded; in the form ‘YYYY­MM­DD’|\n",
    "|first_trip_date : |date of the first trip as a driver; in the form ‘YYYY­MM­DD’|\n",
    "|vehicle_make:  |make of vehicle uploaded (i.e. Honda, Ford, Kia)|\n",
    "|vehicle_model:  |model of vehicle uploaded (i.e. Accord, Prius, 350z)|\n",
    "|vehicle_year:  |year that the car was made; in the form ‘YYYY’|"
   ]
  },
  {
   "cell_type": "code",
   "execution_count": 1,
   "metadata": {
    "collapsed": true
   },
   "outputs": [],
   "source": [
    "import pandas as pd\n",
    "import numpy as np\n",
    "import pylab as plt\n",
    "import seaborn as sns\n",
    "import matplotlib.pyplot as plt\n",
    "\n",
    "data = pd.read_csv('../Uber - Data Scientist/ds_challenge_v2_1_data.csv')"
   ]
  },
  {
   "cell_type": "markdown",
   "metadata": {},
   "source": [
    "### 1. Exploratory Data Analysis"
   ]
  },
  {
   "cell_type": "code",
   "execution_count": 2,
   "metadata": {
    "collapsed": false
   },
   "outputs": [
    {
     "data": {
      "text/html": [
       "<div>\n",
       "<table border=\"1\" class=\"dataframe\">\n",
       "  <thead>\n",
       "    <tr style=\"text-align: right;\">\n",
       "      <th></th>\n",
       "      <th>id</th>\n",
       "      <th>city_name</th>\n",
       "      <th>signup_os</th>\n",
       "      <th>signup_channel</th>\n",
       "      <th>signup_date</th>\n",
       "      <th>bgc_date</th>\n",
       "      <th>vehicle_added_date</th>\n",
       "      <th>vehicle_make</th>\n",
       "      <th>vehicle_model</th>\n",
       "      <th>vehicle_year</th>\n",
       "      <th>first_completed_date</th>\n",
       "    </tr>\n",
       "  </thead>\n",
       "  <tbody>\n",
       "    <tr>\n",
       "      <th>0</th>\n",
       "      <td>1</td>\n",
       "      <td>Strark</td>\n",
       "      <td>ios web</td>\n",
       "      <td>Paid</td>\n",
       "      <td>1/2/16</td>\n",
       "      <td>NaN</td>\n",
       "      <td>NaN</td>\n",
       "      <td>NaN</td>\n",
       "      <td>NaN</td>\n",
       "      <td>NaN</td>\n",
       "      <td>NaN</td>\n",
       "    </tr>\n",
       "    <tr>\n",
       "      <th>1</th>\n",
       "      <td>2</td>\n",
       "      <td>Strark</td>\n",
       "      <td>windows</td>\n",
       "      <td>Paid</td>\n",
       "      <td>1/21/16</td>\n",
       "      <td>NaN</td>\n",
       "      <td>NaN</td>\n",
       "      <td>NaN</td>\n",
       "      <td>NaN</td>\n",
       "      <td>NaN</td>\n",
       "      <td>NaN</td>\n",
       "    </tr>\n",
       "    <tr>\n",
       "      <th>2</th>\n",
       "      <td>3</td>\n",
       "      <td>Wrouver</td>\n",
       "      <td>windows</td>\n",
       "      <td>Organic</td>\n",
       "      <td>1/11/16</td>\n",
       "      <td>1/11/16</td>\n",
       "      <td>NaN</td>\n",
       "      <td>NaN</td>\n",
       "      <td>NaN</td>\n",
       "      <td>NaN</td>\n",
       "      <td>NaN</td>\n",
       "    </tr>\n",
       "    <tr>\n",
       "      <th>3</th>\n",
       "      <td>4</td>\n",
       "      <td>Berton</td>\n",
       "      <td>android web</td>\n",
       "      <td>Referral</td>\n",
       "      <td>1/29/16</td>\n",
       "      <td>2/3/16</td>\n",
       "      <td>2/3/16</td>\n",
       "      <td>Toyota</td>\n",
       "      <td>Corolla</td>\n",
       "      <td>2016.0</td>\n",
       "      <td>2/3/16</td>\n",
       "    </tr>\n",
       "    <tr>\n",
       "      <th>4</th>\n",
       "      <td>5</td>\n",
       "      <td>Strark</td>\n",
       "      <td>android web</td>\n",
       "      <td>Referral</td>\n",
       "      <td>1/10/16</td>\n",
       "      <td>1/25/16</td>\n",
       "      <td>1/26/16</td>\n",
       "      <td>Hyundai</td>\n",
       "      <td>Sonata</td>\n",
       "      <td>2016.0</td>\n",
       "      <td>NaN</td>\n",
       "    </tr>\n",
       "  </tbody>\n",
       "</table>\n",
       "</div>"
      ],
      "text/plain": [
       "   id city_name    signup_os signup_channel signup_date bgc_date  \\\n",
       "0   1    Strark      ios web           Paid      1/2/16      NaN   \n",
       "1   2    Strark      windows           Paid     1/21/16      NaN   \n",
       "2   3   Wrouver      windows        Organic     1/11/16  1/11/16   \n",
       "3   4    Berton  android web       Referral     1/29/16   2/3/16   \n",
       "4   5    Strark  android web       Referral     1/10/16  1/25/16   \n",
       "\n",
       "  vehicle_added_date vehicle_make vehicle_model  vehicle_year  \\\n",
       "0                NaN          NaN           NaN           NaN   \n",
       "1                NaN          NaN           NaN           NaN   \n",
       "2                NaN          NaN           NaN           NaN   \n",
       "3             2/3/16       Toyota       Corolla        2016.0   \n",
       "4            1/26/16      Hyundai        Sonata        2016.0   \n",
       "\n",
       "  first_completed_date  \n",
       "0                  NaN  \n",
       "1                  NaN  \n",
       "2                  NaN  \n",
       "3               2/3/16  \n",
       "4                  NaN  "
      ]
     },
     "execution_count": 2,
     "metadata": {},
     "output_type": "execute_result"
    }
   ],
   "source": [
    "data.head()"
   ]
  },
  {
   "cell_type": "code",
   "execution_count": 3,
   "metadata": {
    "collapsed": false
   },
   "outputs": [
    {
     "data": {
      "text/html": [
       "<div>\n",
       "<table border=\"1\" class=\"dataframe\">\n",
       "  <thead>\n",
       "    <tr style=\"text-align: right;\">\n",
       "      <th></th>\n",
       "      <th>id</th>\n",
       "      <th>city_name</th>\n",
       "      <th>signup_os</th>\n",
       "      <th>signup_channel</th>\n",
       "      <th>signup_date</th>\n",
       "      <th>bgc_date</th>\n",
       "      <th>vehicle_added_date</th>\n",
       "      <th>vehicle_make</th>\n",
       "      <th>vehicle_model</th>\n",
       "      <th>vehicle_year</th>\n",
       "      <th>first_completed_date</th>\n",
       "    </tr>\n",
       "  </thead>\n",
       "  <tbody>\n",
       "    <tr>\n",
       "      <th>54676</th>\n",
       "      <td>54677</td>\n",
       "      <td>Strark</td>\n",
       "      <td>other</td>\n",
       "      <td>Paid</td>\n",
       "      <td>1/15/16</td>\n",
       "      <td>NaN</td>\n",
       "      <td>NaN</td>\n",
       "      <td>NaN</td>\n",
       "      <td>NaN</td>\n",
       "      <td>NaN</td>\n",
       "      <td>NaN</td>\n",
       "    </tr>\n",
       "    <tr>\n",
       "      <th>54677</th>\n",
       "      <td>54678</td>\n",
       "      <td>Strark</td>\n",
       "      <td>other</td>\n",
       "      <td>Paid</td>\n",
       "      <td>1/21/16</td>\n",
       "      <td>NaN</td>\n",
       "      <td>NaN</td>\n",
       "      <td>NaN</td>\n",
       "      <td>NaN</td>\n",
       "      <td>NaN</td>\n",
       "      <td>NaN</td>\n",
       "    </tr>\n",
       "    <tr>\n",
       "      <th>54678</th>\n",
       "      <td>54679</td>\n",
       "      <td>Strark</td>\n",
       "      <td>ios web</td>\n",
       "      <td>Organic</td>\n",
       "      <td>1/6/16</td>\n",
       "      <td>NaN</td>\n",
       "      <td>NaN</td>\n",
       "      <td>NaN</td>\n",
       "      <td>NaN</td>\n",
       "      <td>NaN</td>\n",
       "      <td>NaN</td>\n",
       "    </tr>\n",
       "    <tr>\n",
       "      <th>54679</th>\n",
       "      <td>54680</td>\n",
       "      <td>Berton</td>\n",
       "      <td>android web</td>\n",
       "      <td>Paid</td>\n",
       "      <td>1/18/16</td>\n",
       "      <td>NaN</td>\n",
       "      <td>NaN</td>\n",
       "      <td>NaN</td>\n",
       "      <td>NaN</td>\n",
       "      <td>NaN</td>\n",
       "      <td>NaN</td>\n",
       "    </tr>\n",
       "    <tr>\n",
       "      <th>54680</th>\n",
       "      <td>54681</td>\n",
       "      <td>Berton</td>\n",
       "      <td>ios web</td>\n",
       "      <td>Organic</td>\n",
       "      <td>1/27/16</td>\n",
       "      <td>NaN</td>\n",
       "      <td>NaN</td>\n",
       "      <td>NaN</td>\n",
       "      <td>NaN</td>\n",
       "      <td>NaN</td>\n",
       "      <td>NaN</td>\n",
       "    </tr>\n",
       "  </tbody>\n",
       "</table>\n",
       "</div>"
      ],
      "text/plain": [
       "          id city_name    signup_os signup_channel signup_date bgc_date  \\\n",
       "54676  54677    Strark        other           Paid     1/15/16      NaN   \n",
       "54677  54678    Strark        other           Paid     1/21/16      NaN   \n",
       "54678  54679    Strark      ios web        Organic      1/6/16      NaN   \n",
       "54679  54680    Berton  android web           Paid     1/18/16      NaN   \n",
       "54680  54681    Berton      ios web        Organic     1/27/16      NaN   \n",
       "\n",
       "      vehicle_added_date vehicle_make vehicle_model  vehicle_year  \\\n",
       "54676                NaN          NaN           NaN           NaN   \n",
       "54677                NaN          NaN           NaN           NaN   \n",
       "54678                NaN          NaN           NaN           NaN   \n",
       "54679                NaN          NaN           NaN           NaN   \n",
       "54680                NaN          NaN           NaN           NaN   \n",
       "\n",
       "      first_completed_date  \n",
       "54676                  NaN  \n",
       "54677                  NaN  \n",
       "54678                  NaN  \n",
       "54679                  NaN  \n",
       "54680                  NaN  "
      ]
     },
     "execution_count": 3,
     "metadata": {},
     "output_type": "execute_result"
    }
   ],
   "source": [
    "data.tail()"
   ]
  },
  {
   "cell_type": "markdown",
   "metadata": {},
   "source": [
    "View the data types of each column:"
   ]
  },
  {
   "cell_type": "code",
   "execution_count": 3,
   "metadata": {
    "collapsed": false
   },
   "outputs": [
    {
     "name": "stdout",
     "output_type": "stream",
     "text": [
      "<class 'pandas.core.frame.DataFrame'>\n",
      "RangeIndex: 54681 entries, 0 to 54680\n",
      "Data columns (total 11 columns):\n",
      "id                      54681 non-null int64\n",
      "city_name               54681 non-null object\n",
      "signup_os               47824 non-null object\n",
      "signup_channel          54681 non-null object\n",
      "signup_date             54681 non-null object\n",
      "bgc_date                32896 non-null object\n",
      "vehicle_added_date      13134 non-null object\n",
      "vehicle_make            13223 non-null object\n",
      "vehicle_model           13223 non-null object\n",
      "vehicle_year            13223 non-null float64\n",
      "first_completed_date    6137 non-null object\n",
      "dtypes: float64(1), int64(1), object(9)\n",
      "memory usage: 4.6+ MB\n"
     ]
    }
   ],
   "source": [
    "data.info()"
   ]
  },
  {
   "cell_type": "markdown",
   "metadata": {},
   "source": [
    "Only id, city_name, signup_channel and signup_date have no Null values. \n",
    "Vehicle related variables as well as first_completed_date have way too many missing values. "
   ]
  },
  {
   "cell_type": "markdown",
   "metadata": {},
   "source": [
    "Perform some data type transformations, and create some new variables."
   ]
  },
  {
   "cell_type": "code",
   "execution_count": 2,
   "metadata": {
    "collapsed": false
   },
   "outputs": [],
   "source": [
    "data['id']=str(data['id'])\n",
    "data['signup_date'] =  pd.to_datetime(data['signup_date'], format='%m/%d/%y')\n",
    "data['vehicle_added_date'] =  pd.to_datetime(data['vehicle_added_date'], format='%m/%d/%y')\n",
    "data['bgc_date'] =  pd.to_datetime(data['bgc_date'], format='%m/%d/%y')\n",
    "data['first_completed_date'] =  pd.to_datetime(data['first_completed_date'], format='%m/%d/%y')\n",
    "data['started_driving'] = data['first_completed_date'].notnull()\n",
    "data['has_bgc'] = data['bgc_date'].notnull()\n",
    "data['has_va'] = data['vehicle_added_date'].notnull()"
   ]
  },
  {
   "cell_type": "code",
   "execution_count": 3,
   "metadata": {
    "collapsed": false
   },
   "outputs": [],
   "source": [
    "from datetime import date\n",
    "d3 = data['first_completed_date']\n",
    "d2 = data['vehicle_added_date']\n",
    "d1 = data['bgc_date']\n",
    "d0 = data['signup_date']\n",
    "data['days_to_bgc'] = (d1 - d0)/ np.timedelta64(1, 'D')\n",
    "data['days_to_va'] = (d2 - d0)/ np.timedelta64(1, 'D')\n",
    "data['days_to_fc'] = (d3 - d0)/ np.timedelta64(1, 'D')"
   ]
  },
  {
   "cell_type": "code",
   "execution_count": 4,
   "metadata": {
    "collapsed": false
   },
   "outputs": [],
   "source": [
    "city_dummies = pd.get_dummies(data['city_name'])\n",
    "data = data.join(city_dummies)"
   ]
  },
  {
   "cell_type": "code",
   "execution_count": 8,
   "metadata": {
    "collapsed": false
   },
   "outputs": [
    {
     "data": {
      "text/plain": [
       "id                              object\n",
       "city_name                       object\n",
       "signup_os                       object\n",
       "signup_channel                  object\n",
       "signup_date             datetime64[ns]\n",
       "bgc_date                datetime64[ns]\n",
       "vehicle_added_date      datetime64[ns]\n",
       "vehicle_make                    object\n",
       "vehicle_model                   object\n",
       "vehicle_year                   float64\n",
       "first_completed_date    datetime64[ns]\n",
       "started_driving                   bool\n",
       "has_bgc                           bool\n",
       "has_va                            bool\n",
       "days_to_bgc                    float64\n",
       "days_to_va                     float64\n",
       "days_to_fc                     float64\n",
       "Berton                         float64\n",
       "Strark                         float64\n",
       "Wrouver                        float64\n",
       "dtype: object"
      ]
     },
     "execution_count": 8,
     "metadata": {},
     "output_type": "execute_result"
    }
   ],
   "source": [
    "data.dtypes"
   ]
  },
  {
   "cell_type": "code",
   "execution_count": 9,
   "metadata": {
    "collapsed": false
   },
   "outputs": [
    {
     "data": {
      "text/html": [
       "<div>\n",
       "<table border=\"1\" class=\"dataframe\">\n",
       "  <thead>\n",
       "    <tr style=\"text-align: right;\">\n",
       "      <th></th>\n",
       "      <th>id</th>\n",
       "      <th>city_name</th>\n",
       "      <th>signup_os</th>\n",
       "      <th>signup_channel</th>\n",
       "      <th>signup_date</th>\n",
       "      <th>bgc_date</th>\n",
       "      <th>vehicle_added_date</th>\n",
       "      <th>vehicle_make</th>\n",
       "      <th>vehicle_model</th>\n",
       "      <th>vehicle_year</th>\n",
       "      <th>first_completed_date</th>\n",
       "      <th>started_driving</th>\n",
       "      <th>has_bgc</th>\n",
       "      <th>has_va</th>\n",
       "      <th>days_to_bgc</th>\n",
       "      <th>days_to_va</th>\n",
       "      <th>days_to_fc</th>\n",
       "      <th>Berton</th>\n",
       "      <th>Strark</th>\n",
       "      <th>Wrouver</th>\n",
       "    </tr>\n",
       "  </thead>\n",
       "  <tbody>\n",
       "    <tr>\n",
       "      <th>0</th>\n",
       "      <td>0            1\\n1            2\\n2            3...</td>\n",
       "      <td>Strark</td>\n",
       "      <td>ios web</td>\n",
       "      <td>Paid</td>\n",
       "      <td>2016-01-02</td>\n",
       "      <td>NaT</td>\n",
       "      <td>NaT</td>\n",
       "      <td>NaN</td>\n",
       "      <td>NaN</td>\n",
       "      <td>NaN</td>\n",
       "      <td>NaT</td>\n",
       "      <td>False</td>\n",
       "      <td>False</td>\n",
       "      <td>False</td>\n",
       "      <td>NaN</td>\n",
       "      <td>NaN</td>\n",
       "      <td>NaN</td>\n",
       "      <td>0.0</td>\n",
       "      <td>1.0</td>\n",
       "      <td>0.0</td>\n",
       "    </tr>\n",
       "    <tr>\n",
       "      <th>1</th>\n",
       "      <td>0            1\\n1            2\\n2            3...</td>\n",
       "      <td>Strark</td>\n",
       "      <td>windows</td>\n",
       "      <td>Paid</td>\n",
       "      <td>2016-01-21</td>\n",
       "      <td>NaT</td>\n",
       "      <td>NaT</td>\n",
       "      <td>NaN</td>\n",
       "      <td>NaN</td>\n",
       "      <td>NaN</td>\n",
       "      <td>NaT</td>\n",
       "      <td>False</td>\n",
       "      <td>False</td>\n",
       "      <td>False</td>\n",
       "      <td>NaN</td>\n",
       "      <td>NaN</td>\n",
       "      <td>NaN</td>\n",
       "      <td>0.0</td>\n",
       "      <td>1.0</td>\n",
       "      <td>0.0</td>\n",
       "    </tr>\n",
       "    <tr>\n",
       "      <th>2</th>\n",
       "      <td>0            1\\n1            2\\n2            3...</td>\n",
       "      <td>Wrouver</td>\n",
       "      <td>windows</td>\n",
       "      <td>Organic</td>\n",
       "      <td>2016-01-11</td>\n",
       "      <td>2016-01-11</td>\n",
       "      <td>NaT</td>\n",
       "      <td>NaN</td>\n",
       "      <td>NaN</td>\n",
       "      <td>NaN</td>\n",
       "      <td>NaT</td>\n",
       "      <td>False</td>\n",
       "      <td>True</td>\n",
       "      <td>False</td>\n",
       "      <td>0.0</td>\n",
       "      <td>NaN</td>\n",
       "      <td>NaN</td>\n",
       "      <td>0.0</td>\n",
       "      <td>0.0</td>\n",
       "      <td>1.0</td>\n",
       "    </tr>\n",
       "    <tr>\n",
       "      <th>3</th>\n",
       "      <td>0            1\\n1            2\\n2            3...</td>\n",
       "      <td>Berton</td>\n",
       "      <td>android web</td>\n",
       "      <td>Referral</td>\n",
       "      <td>2016-01-29</td>\n",
       "      <td>2016-02-03</td>\n",
       "      <td>2016-02-03</td>\n",
       "      <td>Toyota</td>\n",
       "      <td>Corolla</td>\n",
       "      <td>2016.0</td>\n",
       "      <td>2016-02-03</td>\n",
       "      <td>True</td>\n",
       "      <td>True</td>\n",
       "      <td>True</td>\n",
       "      <td>5.0</td>\n",
       "      <td>5.0</td>\n",
       "      <td>5.0</td>\n",
       "      <td>1.0</td>\n",
       "      <td>0.0</td>\n",
       "      <td>0.0</td>\n",
       "    </tr>\n",
       "    <tr>\n",
       "      <th>4</th>\n",
       "      <td>0            1\\n1            2\\n2            3...</td>\n",
       "      <td>Strark</td>\n",
       "      <td>android web</td>\n",
       "      <td>Referral</td>\n",
       "      <td>2016-01-10</td>\n",
       "      <td>2016-01-25</td>\n",
       "      <td>2016-01-26</td>\n",
       "      <td>Hyundai</td>\n",
       "      <td>Sonata</td>\n",
       "      <td>2016.0</td>\n",
       "      <td>NaT</td>\n",
       "      <td>False</td>\n",
       "      <td>True</td>\n",
       "      <td>True</td>\n",
       "      <td>15.0</td>\n",
       "      <td>16.0</td>\n",
       "      <td>NaN</td>\n",
       "      <td>0.0</td>\n",
       "      <td>1.0</td>\n",
       "      <td>0.0</td>\n",
       "    </tr>\n",
       "  </tbody>\n",
       "</table>\n",
       "</div>"
      ],
      "text/plain": [
       "                                                  id city_name    signup_os  \\\n",
       "0  0            1\\n1            2\\n2            3...    Strark      ios web   \n",
       "1  0            1\\n1            2\\n2            3...    Strark      windows   \n",
       "2  0            1\\n1            2\\n2            3...   Wrouver      windows   \n",
       "3  0            1\\n1            2\\n2            3...    Berton  android web   \n",
       "4  0            1\\n1            2\\n2            3...    Strark  android web   \n",
       "\n",
       "  signup_channel signup_date   bgc_date vehicle_added_date vehicle_make  \\\n",
       "0           Paid  2016-01-02        NaT                NaT          NaN   \n",
       "1           Paid  2016-01-21        NaT                NaT          NaN   \n",
       "2        Organic  2016-01-11 2016-01-11                NaT          NaN   \n",
       "3       Referral  2016-01-29 2016-02-03         2016-02-03       Toyota   \n",
       "4       Referral  2016-01-10 2016-01-25         2016-01-26      Hyundai   \n",
       "\n",
       "  vehicle_model  vehicle_year first_completed_date started_driving has_bgc  \\\n",
       "0           NaN           NaN                  NaT           False   False   \n",
       "1           NaN           NaN                  NaT           False   False   \n",
       "2           NaN           NaN                  NaT           False    True   \n",
       "3       Corolla        2016.0           2016-02-03            True    True   \n",
       "4        Sonata        2016.0                  NaT           False    True   \n",
       "\n",
       "  has_va  days_to_bgc  days_to_va  days_to_fc  Berton  Strark  Wrouver  \n",
       "0  False          NaN         NaN         NaN     0.0     1.0      0.0  \n",
       "1  False          NaN         NaN         NaN     0.0     1.0      0.0  \n",
       "2  False          0.0         NaN         NaN     0.0     0.0      1.0  \n",
       "3   True          5.0         5.0         5.0     1.0     0.0      0.0  \n",
       "4   True         15.0        16.0         NaN     0.0     1.0      0.0  "
      ]
     },
     "execution_count": 9,
     "metadata": {},
     "output_type": "execute_result"
    }
   ],
   "source": [
    "data.head()"
   ]
  },
  {
   "cell_type": "markdown",
   "metadata": {},
   "source": [
    "Let's start the EDA by looking at some variables distributions:"
   ]
  },
  {
   "cell_type": "markdown",
   "metadata": {},
   "source": [
    "I want to see the distribution of **signups** by the different events' dates"
   ]
  },
  {
   "cell_type": "code",
   "execution_count": 11,
   "metadata": {
    "collapsed": false
   },
   "outputs": [
    {
     "data": {
      "image/png": "[encoded data removed]",
      "text/plain": [
       "<matplotlib.figure.Figure at 0x1217baf50>"
      ]
     },
     "metadata": {},
     "output_type": "display_data"
    }
   ],
   "source": [
    "fc_ct = pd.crosstab(index = data['signup_date'],columns = \"count\")\n",
    "ax = fc_ct.plot(kind=\"bar\", \n",
    "                 figsize=(14,8), color = \"y\",  alpha=.5, title = 'Distribution of signups by signup_date')\n"
   ]
  },
  {
   "cell_type": "code",
   "execution_count": 12,
   "metadata": {
    "collapsed": false
   },
   "outputs": [
    {
     "data": {
      "image/png": "[encoded data removed]",
      "text/plain": [
       "<matplotlib.figure.Figure at 0x1231dc850>"
      ]
     },
     "metadata": {},
     "output_type": "display_data"
    }
   ],
   "source": [
    "fc_ct = pd.crosstab(index = data['first_completed_date'],columns = \"count\")\n",
    "ax = fc_ct.plot(kind=\"bar\",\n",
    "                 figsize=(14,8), color = \"r\",  alpha=.5, title = 'Distribution of signups by first_completed_date')\n"
   ]
  },
  {
   "cell_type": "code",
   "execution_count": 13,
   "metadata": {
    "collapsed": false
   },
   "outputs": [
    {
     "data": {
      "image/png": "[encoded data removed]",
      "text/plain": [
       "<matplotlib.figure.Figure at 0x123a6b510>"
      ]
     },
     "metadata": {},
     "output_type": "display_data"
    }
   ],
   "source": [
    "va_ct = pd.crosstab(index = data['vehicle_added_date'],columns = \"count\")\n",
    "ax = va_ct.plot(kind=\"bar\",\n",
    "                 figsize=(14,8), color = \"g\",  alpha=.5, title = 'Distribution of signups by vehicle_added_date')"
   ]
  },
  {
   "cell_type": "code",
   "execution_count": 14,
   "metadata": {
    "collapsed": false
   },
   "outputs": [
    {
     "data": {
      "image/png": "[encoded data removed]",
      "text/plain": [
       "<matplotlib.figure.Figure at 0x1243ecc90>"
      ]
     },
     "metadata": {},
     "output_type": "display_data"
    }
   ],
   "source": [
    "bgc_ct = pd.crosstab(index = data['bgc_date'],columns = \"count\")\n",
    "ax = bgc_ct.plot(kind=\"bar\",\n",
    "                 figsize=(14,8), color = \"b\",  alpha=.5, title = 'Distribution of signups by bgc_date')"
   ]
  },
  {
   "cell_type": "markdown",
   "metadata": {},
   "source": [
    "Let's take a look at the categorical variables"
   ]
  },
  {
   "cell_type": "code",
   "execution_count": 11,
   "metadata": {
    "collapsed": true
   },
   "outputs": [],
   "source": [
    "cities = set()\n",
    "for i in data.city_name:\n",
    "    cities.add(i)"
   ]
  },
  {
   "cell_type": "code",
   "execution_count": 16,
   "metadata": {
    "collapsed": false
   },
   "outputs": [
    {
     "data": {
      "image/png": "[encoded data removed]",
      "text/plain": [
       "<matplotlib.figure.Figure at 0x123a74250>"
      ]
     },
     "metadata": {},
     "output_type": "display_data"
    }
   ],
   "source": [
    "%matplotlib inline\n",
    "\n",
    "plt.subplots(figsize=(10, 5), tight_layout=True)\n",
    "ax = sns.countplot(y=\"signup_os\", hue=\"started_driving\", data=data, palette=\"Greens_d\")"
   ]
  },
  {
   "cell_type": "markdown",
   "metadata": {},
   "source": [
    "We can see higher number of drivers signed up using iOS and Android mobile platforms. "
   ]
  },
  {
   "cell_type": "code",
   "execution_count": 17,
   "metadata": {
    "collapsed": false
   },
   "outputs": [
    {
     "data": {
      "image/png": "[encoded data removed]",
      "text/plain": [
       "<matplotlib.figure.Figure at 0x124763390>"
      ]
     },
     "metadata": {},
     "output_type": "display_data"
    }
   ],
   "source": [
    "plt.subplots(figsize=(10, 5), tight_layout=True)\n",
    "ax = sns.countplot(y=\"city_name\", hue=\"started_driving\", data=data, palette=\"Greens_d\")"
   ]
  },
  {
   "cell_type": "markdown",
   "metadata": {},
   "source": [
    "Also we have higher number of drivers from Strark, followed by Wtrouver and Berton"
   ]
  },
  {
   "cell_type": "code",
   "execution_count": 18,
   "metadata": {
    "collapsed": false
   },
   "outputs": [
    {
     "data": {
      "image/png": "[encoded data removed]",
      "text/plain": [
       "<matplotlib.figure.Figure at 0x12507e190>"
      ]
     },
     "metadata": {},
     "output_type": "display_data"
    }
   ],
   "source": [
    "plt.subplots(figsize=(10, 5), tight_layout=True)\n",
    "ax = sns.countplot(y=\"signup_channel\", hue=\"started_driving\", data=data, palette=\"Greens_d\")"
   ]
  },
  {
   "cell_type": "markdown",
   "metadata": {},
   "source": [
    "Higher number of drivers signed up via Paid channel, although we can appreciate that there's a higher proportion of singups that started driving when those were referred."
   ]
  },
  {
   "cell_type": "markdown",
   "metadata": {},
   "source": [
    "For the distribution of days between sign up date and other event:"
   ]
  },
  {
   "cell_type": "code",
   "execution_count": 19,
   "metadata": {
    "collapsed": false
   },
   "outputs": [
    {
     "data": {
      "image/png": "[encoded data removed]",
      "text/plain": [
       "<matplotlib.figure.Figure at 0x125228f50>"
      ]
     },
     "metadata": {},
     "output_type": "display_data"
    }
   ],
   "source": [
    "# Plot the distribution of days between signup_date and first_trip_date\n",
    "%matplotlib inline\n",
    "fig, axes = plt.subplots(nrows=3, ncols=1, figsize=(10, 10), tight_layout=True)\n",
    "\n",
    "bins = np.arange(0, 40, 1)\n",
    "\n",
    "for ax, city_name in zip(axes.ravel(), cities):\n",
    "    ax.hist(data[data[city_name] == 1].days_to_fc, \n",
    "            bins=bins, histtype='stepfilled', color='r', ec='none', alpha=.3, normed=True)\n",
    "               \n",
    "    ax.hist(data.days_to_fc, bins=bins, normed=True,\n",
    "            histtype='stepfilled', ec='none', color='#cccccc',\n",
    "            zorder=0)\n",
    "    ax.set_yticks([])\n",
    "    ax.set_xlabel(\"Days to First Trip Date\")\n",
    "    ax.set_ylabel(city_name)\n",
    "    ax.set_ylim(0, .08)"
   ]
  },
  {
   "cell_type": "code",
   "execution_count": 20,
   "metadata": {
    "collapsed": false,
    "scrolled": false
   },
   "outputs": [
    {
     "data": {
      "image/png": "[encoded data removed]",
      "text/plain": [
       "<matplotlib.figure.Figure at 0x12489c910>"
      ]
     },
     "metadata": {},
     "output_type": "display_data"
    }
   ],
   "source": [
    "# Plot the distribution of days between signup_date and vehicle_added_date (green)\n",
    "# and compare it with the distribution of days between signup_date and first_trip_date (red)\n",
    "fig, axes = plt.subplots(nrows=3, ncols=1, figsize=(10, 10), tight_layout=True)\n",
    "\n",
    "bins = np.arange(0, 40, 1)\n",
    "\n",
    "for ax, city_name in zip(axes.ravel(), cities):\n",
    "    ax.hist(data[data[city_name] == 1].days_to_va, \n",
    "            bins=bins, histtype='stepfilled', color='g', ec='none', alpha=.2, normed=True)\n",
    "    ax.hist(data[data[city_name] == 1].days_to_fc, \n",
    "            bins=bins, histtype='stepfilled', color='r', ec='none', alpha=.3, normed=True)\n",
    "            \n",
    "    ax.set_xlabel(\"Days\")\n",
    "    ax.set_ylabel(city_name)\n",
    "    ax.set_ylim(0, .1)"
   ]
  },
  {
   "cell_type": "code",
   "execution_count": 21,
   "metadata": {
    "collapsed": false
   },
   "outputs": [
    {
     "data": {
      "image/png": "[encoded data removed]",
      "text/plain": [
       "<matplotlib.figure.Figure at 0x125233ad0>"
      ]
     },
     "metadata": {},
     "output_type": "display_data"
    }
   ],
   "source": [
    "# Plot the distribution of days between signup_date and background_check_date (blue)\n",
    "# and compare it with the distribution of days between signup_date and first_trip_date (red)\n",
    "fig, axes = plt.subplots(nrows=3, ncols=1, figsize=(10, 10), tight_layout=True)\n",
    "\n",
    "bins = np.arange(0, 40, 1)\n",
    "\n",
    "for ax, city_name in zip(axes.ravel(), cities):\n",
    "    ax.hist(data[data[city_name] == 1].days_to_fc, \n",
    "            bins=bins, histtype='stepfilled', color='r', ec='none', alpha=.3, normed=True)\n",
    "    ax.hist(data[data[city_name] == 1].days_to_bgc, \n",
    "            bins=bins, histtype='stepfilled', color='b', ec='none', alpha=.3, normed=True)                 \n",
    "    #ax.set_yticks([])\n",
    "    ax.set_xlabel(\"Days\")\n",
    "    ax.set_ylabel(city_name)\n",
    "    ax.set_ylim(0, .15)"
   ]
  },
  {
   "cell_type": "markdown",
   "metadata": {},
   "source": [
    "Let's make now look at the ratios of singups vs drivers who took a first trip:"
   ]
  },
  {
   "cell_type": "markdown",
   "metadata": {},
   "source": [
    "#### Ratio of Signups that took first drive by City"
   ]
  },
  {
   "cell_type": "code",
   "execution_count": 8,
   "metadata": {
    "collapsed": false,
    "scrolled": true
   },
   "outputs": [
    {
     "data": {
      "text/html": [
       "<div>\n",
       "<table border=\"1\" class=\"dataframe\">\n",
       "  <thead>\n",
       "    <tr style=\"text-align: right;\">\n",
       "      <th>started_driving</th>\n",
       "      <th>False</th>\n",
       "      <th>True</th>\n",
       "    </tr>\n",
       "    <tr>\n",
       "      <th>city_name</th>\n",
       "      <th></th>\n",
       "      <th></th>\n",
       "    </tr>\n",
       "  </thead>\n",
       "  <tbody>\n",
       "    <tr>\n",
       "      <th>Berton</th>\n",
       "      <td>0.878859</td>\n",
       "      <td>0.121141</td>\n",
       "    </tr>\n",
       "    <tr>\n",
       "      <th>Strark</th>\n",
       "      <td>0.890415</td>\n",
       "      <td>0.109585</td>\n",
       "    </tr>\n",
       "    <tr>\n",
       "      <th>Wrouver</th>\n",
       "      <td>0.907929</td>\n",
       "      <td>0.092071</td>\n",
       "    </tr>\n",
       "  </tbody>\n",
       "</table>\n",
       "</div>"
      ],
      "text/plain": [
       "started_driving     False     True \n",
       "city_name                          \n",
       "Berton           0.878859  0.121141\n",
       "Strark           0.890415  0.109585\n",
       "Wrouver          0.907929  0.092071"
      ]
     },
     "execution_count": 8,
     "metadata": {},
     "output_type": "execute_result"
    }
   ],
   "source": [
    "p_city = pd.crosstab(data['city_name'], data['started_driving']).apply(lambda r: r/r.sum(), axis=1)\n",
    "p_city"
   ]
  },
  {
   "cell_type": "code",
   "execution_count": 146,
   "metadata": {
    "collapsed": false,
    "scrolled": true
   },
   "outputs": [
    {
     "data": {
      "text/plain": [
       "<matplotlib.text.Text at 0x121b86510>"
      ]
     },
     "execution_count": 146,
     "metadata": {},
     "output_type": "execute_result"
    },
    {
     "data": {
      "image/png": "[encoded data removed]",
      "text/plain": [
       "<matplotlib.figure.Figure at 0x11e05ced0>"
      ]
     },
     "metadata": {},
     "output_type": "display_data"
    }
   ],
   "source": [
    "p_city_plt = p_city.div(p_city.sum(1).astype(float), axis=0)\n",
    "\n",
    "p_city_plt.plot(kind='bar', \n",
    "                   stacked=True, \n",
    "                   title=' Ratio of Signups that took first drive by City')\n",
    "d_colors = ['#2166ac',\n",
    "                '#fee090']\n",
    "plt.xlabel('City')\n",
    "plt.ylabel('Ratio')\n"
   ]
  },
  {
   "cell_type": "markdown",
   "metadata": {},
   "source": [
    "Berton has a higher rate of signups who started driving (12%) compared with Strark (11%) and Wrouver (9%). "
   ]
  },
  {
   "cell_type": "markdown",
   "metadata": {},
   "source": [
    "#### Ratio of Signups that took first drive by Channel"
   ]
  },
  {
   "cell_type": "code",
   "execution_count": 148,
   "metadata": {
    "collapsed": false
   },
   "outputs": [
    {
     "data": {
      "text/html": [
       "<div>\n",
       "<table border=\"1\" class=\"dataframe\">\n",
       "  <thead>\n",
       "    <tr style=\"text-align: right;\">\n",
       "      <th>started_driving</th>\n",
       "      <th>False</th>\n",
       "      <th>True</th>\n",
       "    </tr>\n",
       "    <tr>\n",
       "      <th>signup_channel</th>\n",
       "      <th></th>\n",
       "      <th></th>\n",
       "    </tr>\n",
       "  </thead>\n",
       "  <tbody>\n",
       "    <tr>\n",
       "      <th>Organic</th>\n",
       "      <td>0.909883</td>\n",
       "      <td>0.090117</td>\n",
       "    </tr>\n",
       "    <tr>\n",
       "      <th>Paid</th>\n",
       "      <td>0.938090</td>\n",
       "      <td>0.061910</td>\n",
       "    </tr>\n",
       "    <tr>\n",
       "      <th>Referral</th>\n",
       "      <td>0.801051</td>\n",
       "      <td>0.198949</td>\n",
       "    </tr>\n",
       "  </tbody>\n",
       "</table>\n",
       "</div>"
      ],
      "text/plain": [
       "started_driving     False     True \n",
       "signup_channel                     \n",
       "Organic          0.909883  0.090117\n",
       "Paid             0.938090  0.061910\n",
       "Referral         0.801051  0.198949"
      ]
     },
     "execution_count": 148,
     "metadata": {},
     "output_type": "execute_result"
    }
   ],
   "source": [
    "p_channel = pd.crosstab(data['signup_channel'], data['started_driving']).apply(lambda r: r/r.sum(), axis=1)\n",
    "p_channel"
   ]
  },
  {
   "cell_type": "code",
   "execution_count": 149,
   "metadata": {
    "collapsed": false
   },
   "outputs": [
    {
     "data": {
      "text/plain": [
       "<matplotlib.text.Text at 0x117e53190>"
      ]
     },
     "execution_count": 149,
     "metadata": {},
     "output_type": "execute_result"
    },
    {
     "data": {
      "image/png": "[encoded data removed]",
      "text/plain": [
       "<matplotlib.figure.Figure at 0x11aa02250>"
      ]
     },
     "metadata": {},
     "output_type": "display_data"
    }
   ],
   "source": [
    "p_channel_plt = p_channel.div(p_channel.sum(1).astype(float), axis=0)\n",
    "\n",
    "p_channel_plt.plot(kind='bar', \n",
    "                   stacked=True, \n",
    "                   title=' Ratio of Signups that took first drive by Channel')\n",
    "plt.xlabel('Channel')\n",
    "plt.ylabel('Ratio')"
   ]
  },
  {
   "cell_type": "markdown",
   "metadata": {},
   "source": [
    "Signups referred are more than two times more prone to start driving (20%) than those we come via Organic (9%) or Paid (6%) channel. "
   ]
  },
  {
   "cell_type": "markdown",
   "metadata": {},
   "source": [
    "#### Ratio of Signups that took first drive by Device"
   ]
  },
  {
   "cell_type": "code",
   "execution_count": 150,
   "metadata": {
    "collapsed": false
   },
   "outputs": [
    {
     "data": {
      "text/html": [
       "<div>\n",
       "<table border=\"1\" class=\"dataframe\">\n",
       "  <thead>\n",
       "    <tr style=\"text-align: right;\">\n",
       "      <th>started_driving</th>\n",
       "      <th>False</th>\n",
       "      <th>True</th>\n",
       "    </tr>\n",
       "    <tr>\n",
       "      <th>signup_os</th>\n",
       "      <th></th>\n",
       "      <th></th>\n",
       "    </tr>\n",
       "  </thead>\n",
       "  <tbody>\n",
       "    <tr>\n",
       "      <th>android web</th>\n",
       "      <td>0.902703</td>\n",
       "      <td>0.097297</td>\n",
       "    </tr>\n",
       "    <tr>\n",
       "      <th>ios web</th>\n",
       "      <td>0.868266</td>\n",
       "      <td>0.131734</td>\n",
       "    </tr>\n",
       "    <tr>\n",
       "      <th>mac</th>\n",
       "      <td>0.837225</td>\n",
       "      <td>0.162775</td>\n",
       "    </tr>\n",
       "    <tr>\n",
       "      <th>other</th>\n",
       "      <td>0.863487</td>\n",
       "      <td>0.136513</td>\n",
       "    </tr>\n",
       "    <tr>\n",
       "      <th>windows</th>\n",
       "      <td>0.867473</td>\n",
       "      <td>0.132527</td>\n",
       "    </tr>\n",
       "  </tbody>\n",
       "</table>\n",
       "</div>"
      ],
      "text/plain": [
       "started_driving     False     True \n",
       "signup_os                          \n",
       "android web      0.902703  0.097297\n",
       "ios web          0.868266  0.131734\n",
       "mac              0.837225  0.162775\n",
       "other            0.863487  0.136513\n",
       "windows          0.867473  0.132527"
      ]
     },
     "execution_count": 150,
     "metadata": {},
     "output_type": "execute_result"
    }
   ],
   "source": [
    "p_os = pd.crosstab(data['signup_os'], data['started_driving']).apply(lambda r: r/r.sum(), axis=1)\n",
    "p_os"
   ]
  },
  {
   "cell_type": "code",
   "execution_count": 151,
   "metadata": {
    "collapsed": false
   },
   "outputs": [
    {
     "data": {
      "text/plain": [
       "<matplotlib.text.Text at 0x11e0b3650>"
      ]
     },
     "execution_count": 151,
     "metadata": {},
     "output_type": "execute_result"
    },
    {
     "data": {
      "image/png": "[encoded data removed]",
      "text/plain": [
       "<matplotlib.figure.Figure at 0x121d08210>"
      ]
     },
     "metadata": {},
     "output_type": "display_data"
    }
   ],
   "source": [
    "p_os_plt = p_os.div(p_os.sum(1).astype(float), axis=0)\n",
    "\n",
    "p_os_plt.plot(kind='bar', \n",
    "                   stacked=True, \n",
    "                   title=' Ratio of Signups that took first drive by device')\n",
    "plt.xlabel('device')\n",
    "plt.ylabel('Ratio')"
   ]
  },
  {
   "cell_type": "markdown",
   "metadata": {},
   "source": [
    "In terms of the device used, those who did sign up using a mac have a higher percentage of drivers who started using Uber, followed by Other, Windows, and IOs Web devices. The rate drops to almost half for those who signed up using an Android phone.  "
   ]
  },
  {
   "cell_type": "markdown",
   "metadata": {},
   "source": [
    "### 2 & 3. Build Model and conclusions."
   ]
  },
  {
   "cell_type": "markdown",
   "metadata": {},
   "source": [
    "If I assume that those drivers with missing values in the column \"first_completed_date\" didn't take their first trip, then by looking at those who did, I can evaluate and extrapolate my finding to the group that didn't and see if any of them are close to taking their first ride.\n",
    "\n",
    "Taking this into account, my first approach was to try to build a **Survival Analysis**. In this type of problem, the time duration of a sample of observations is analyzed until an event of death occurs. Here the \"death\" event is when the signup takes his or her first trip.\n",
    "\n",
    "I took the first two months of data and considered February 29th as the last observed point in time, which means that everything after this day is (right) censored. After plotting the survival curve using Lifelines library, I noticed that something was wrong—the curve became flat at ~0.8. Going back, I looked at the distributions of days between signup and first trip and realized that the range was [1,30] for the positive cases and [30,60] for the negative ones. It's worth noting that due to the lack of additional data points (basically drivers that took more than 30 days to drive since signing up, as well as drivers that started within a month before the last observed point), I introduced a lot of bias to the model. I attempted this with only one month of data and censoring everything after January 31st, and obtained similar results.\n",
    "\n",
    "My second approach was to simplify the problem as a classification type and apply **Gradient Boosting** algorithm. I performed feature transformations and created new features. Then by tuning some of the parameters for the algorithm, I obtained reasonably good predictions with the model (F1 score: 0.81, Precision: 0.79, Recall: 0.83, and Accuracy: 0.96), although with some overfitting. In order to fix this, I performed grid search with cross validation and used the best tuning parameters with GBM. This resulted on an improvement of the evaluation metrics (F1 score: 0.82, Precision: 0.80, Recall: 0.85, Accuracy: 0.96) and a model that generalizes very well without overfitting.\n",
    "\n",
    "I also tried **Random Forest** algorithm with Cross-Validation that couldn't beat the performance of the GBM model (F1 score: 0.79, Precision: 0.78, Recall: 0.82, Accuracy: 0.96). The variables that seem to have a higher correlation with the target variable are **has_va** (0.59), **days_since_signup** (0.26), **has_bgc** (0.07), and **channel_referral** (0.02).\n",
    "\n",
    "Finaly, because the event of registering the vehicle seems to be the strongest predictor in our model, I built a separate model with only those drivers who already registered this vehicle. That way, I was also able to include more variables related to the type of vehicle. I used GBM with C-V and got very good (almost perfect) results (F1 score: 0.99, Precision: 0.99, Recall: 0.99, Accuracy: 0.99). While the most important variables were **days_since_signup**, **vehicle_year** and **channel**.\n",
    "\n",
    "These results can help Uber understand that those drivers who have already registered their vehicle and provided bgc consent, have a higher propensity to start driving. Likewise, the further away from the date of sign-up, the lower the likelihood to start driving. Lastly, those drivers who got referred are more prone to start driving than those who come from different channels. From the variable importance table, we can also extract that city and device are factors that don't really have much correlation with the likelihood to start driving.\n",
    "\n",
    "A few strategies that Uber can develop from this analysis:\n",
    "- Follow up with drivers who haven't taken their first ride 5 days after they signed up.\n",
    "- Provide greater incentives for referral as they seem to generate the most signups that continue driving.\n",
    "- Setup reminders and increase pressure to signups to provide bgc consent and to register their vehicles."
   ]
  },
  {
   "cell_type": "markdown",
   "metadata": {},
   "source": [
    "#### Survival Analysis\n",
    "Attempt 1: Data from 01/01 to 02/29"
   ]
  },
  {
   "cell_type": "code",
   "execution_count": 24,
   "metadata": {
    "collapsed": false
   },
   "outputs": [],
   "source": [
    "from dateutil import rrule, parser\n",
    "start = '2016-03-01'\n",
    "end= '2016-03-31'    #Right censor data after February 29th \n",
    "dates_rm = list(rrule.rrule(rrule.DAILY,\n",
    "                         dtstart=parser.parse(start),\n",
    "                         until=parser.parse(end)))"
   ]
  },
  {
   "cell_type": "code",
   "execution_count": 25,
   "metadata": {
    "collapsed": false
   },
   "outputs": [
    {
     "name": "stdout",
     "output_type": "stream",
     "text": [
      "we've removed 48 drivers\n"
     ]
    }
   ],
   "source": [
    "data1 = data[~data['bgc_date'].isin(dates_rm)]\n",
    "print \"we've removed %s drivers\" %(len(data)-len(data1))"
   ]
  },
  {
   "cell_type": "code",
   "execution_count": 26,
   "metadata": {
    "collapsed": false
   },
   "outputs": [
    {
     "name": "stdout",
     "output_type": "stream",
     "text": [
      "we've removed 88 drivers\n"
     ]
    }
   ],
   "source": [
    "data1 = data1[~data1['vehicle_added_date'].isin(dates_rm)]\n",
    "print \"we've removed %s drivers\" %(len(data)-len(data1))"
   ]
  },
  {
   "cell_type": "code",
   "execution_count": 27,
   "metadata": {
    "collapsed": false
   },
   "outputs": [],
   "source": [
    "#Create first_completed_date, censored=started_driving, days since signup. \n",
    "data1['first_completed_date'] = data1['first_completed_date'].fillna('2016-02-29 00:00:00')\n",
    "data1['first_completed_date'] =  pd.to_datetime(data1['first_completed_date'])\n",
    "data1['days_since_signup'] = (data1['first_completed_date']  - data1['signup_date'])/ np.timedelta64(1, 'D')"
   ]
  },
  {
   "cell_type": "code",
   "execution_count": 28,
   "metadata": {
    "collapsed": false
   },
   "outputs": [
    {
     "data": {
      "text/plain": [
       "False    48460\n",
       "True      6133\n",
       "Name: started_driving, dtype: int64"
      ]
     },
     "execution_count": 28,
     "metadata": {},
     "output_type": "execute_result"
    }
   ],
   "source": [
    "data1.started_driving.value_counts().sort_index()"
   ]
  },
  {
   "cell_type": "markdown",
   "metadata": {},
   "source": [
    "We see that there are 48460 0-censor labelled signups and 6133 1-censor labelled signups in the dataset. "
   ]
  },
  {
   "cell_type": "code",
   "execution_count": 100,
   "metadata": {
    "collapsed": false
   },
   "outputs": [
    {
     "data": {
      "image/png": "[encoded data removed]",
      "text/plain": [
       "<matplotlib.figure.Figure at 0x124ed1a10>"
      ]
     },
     "metadata": {},
     "output_type": "display_data"
    }
   ],
   "source": [
    "#pd.crosstab(data1['days_since_signup'], data1['started_driving'])\n",
    "fig, axes = plt.subplots(nrows=3, ncols=1, figsize=(10, 10), tight_layout=True)\n",
    "\n",
    "bins = np.arange(0, 61, 1)\n",
    "\n",
    "for ax, city_name in zip(axes.ravel(), cities):\n",
    "\n",
    "    ax.hist(data1[data1['started_driving'] == 1].days_since_signup, \n",
    "            bins=bins, histtype='stepfilled', color='r', ec='none', alpha=.3, normed=True)\n",
    "    ax.hist(data1[data1['started_driving'] == 0].days_since_signup, \n",
    "            bins=bins, histtype='stepfilled', color='b', ec='none', alpha=.3, normed=True)                 \n",
    "    #ax.set_yticks([])\n",
    "    ax.set_xlabel(\"Days\")\n",
    "\n",
    "    ax.set_ylim(0, .08)"
   ]
  },
  {
   "cell_type": "markdown",
   "metadata": {},
   "source": [
    "Count of days between when the driver signed up and when they started driving (if they did) or the last observed date (February 29th). \n",
    "- In Red: drivers that started driving. \n",
    "- In Blue: drivers that never started driving. "
   ]
  },
  {
   "cell_type": "markdown",
   "metadata": {},
   "source": [
    "Plot the Survival Curve"
   ]
  },
  {
   "cell_type": "code",
   "execution_count": 75,
   "metadata": {
    "collapsed": false
   },
   "outputs": [
    {
     "data": {
      "text/plain": [
       "<lifelines.KaplanMeierFitter: fitted with 54593 observations, 48460 censored>"
      ]
     },
     "execution_count": 75,
     "metadata": {},
     "output_type": "execute_result"
    }
   ],
   "source": [
    "from lifelines import KaplanMeierFitter\n",
    "kmf = KaplanMeierFitter()\n",
    "kmf.fit(data1.days_since_signup, event_observed=data1.started_driving)"
   ]
  },
  {
   "cell_type": "code",
   "execution_count": 76,
   "metadata": {
    "collapsed": false
   },
   "outputs": [],
   "source": [
    "import plotly\n",
    "import plotly.tools as tls\n",
    "import plotly.plotly as py\n",
    "from plotly.graph_objs import Figure, Data, Layout\n",
    "import matplotlib.pyplot as plt\n",
    "from plotly.graph_objs import *\n",
    "%matplotlib inline\n",
    "from pylab import rcParams\n",
    "\n",
    "def pyplot(fig, ci=True, legend=True):\n",
    "    # Convert mpl fig obj to plotly fig obj, resize to plotly's default\n",
    "    py_fig = tls.mpl_to_plotly(fig, resize=True)\n",
    "    \n",
    "    # Add fill property to lower limit line\n",
    "    if ci == True:\n",
    "        style1 = dict(fill='tonexty')\n",
    "        # apply style\n",
    "        py_fig['data'][2].update(style1)\n",
    "        \n",
    "        # Change color scheme to black\n",
    "        py_fig['data'].update(dict(line=Line(color='black')))\n",
    "    \n",
    "    # change the default line type to 'step'\n",
    "    py_fig['data'].update(dict(line=Line(shape='hv')))\n",
    "    # Delete misplaced legend annotations \n",
    "    py_fig['layout'].pop('annotations', None)\n",
    "    \n",
    "    if legend == True:\n",
    "        # Add legend, place it at the top right corner of the plot\n",
    "        py_fig['layout'].update(\n",
    "            showlegend=True,\n",
    "            legend=Legend(\n",
    "                x=1.05,\n",
    "                y=1\n",
    "            )\n",
    "        )\n",
    "        \n",
    "    # Send updated figure object to Plotly, show result in notebook\n",
    "    return py.iplot(py_fig)\n"
   ]
  },
  {
   "cell_type": "code",
   "execution_count": 77,
   "metadata": {
    "collapsed": false
   },
   "outputs": [
    {
     "name": "stderr",
     "output_type": "stream",
     "text": [
      "/Users/iglopezfrancos/anaconda/lib/python2.7/site-packages/plotly/matplotlylib/renderer.py:384: UserWarning:\n",
      "\n",
      "Bummer! Plotly can currently only draw Line2D objects from matplotlib that are in 'data' coordinates!\n",
      "\n",
      "/Users/iglopezfrancos/anaconda/lib/python2.7/site-packages/plotly/matplotlylib/renderer.py:481: UserWarning:\n",
      "\n",
      "I found a path object that I don't think is part of a bar chart. Ignoring.\n",
      "\n"
     ]
    },
    {
     "data": {
      "text/html": [
       "<iframe id=\"igraph\" scrolling=\"no\" style=\"border:none;\" seamless=\"seamless\" src=\"https://plot.ly/~ilopezfr/14.embed\" height=\"525px\" width=\"100%\"></iframe>"
      ],
      "text/plain": [
       "<plotly.tools.PlotlyDisplay object>"
      ]
     },
     "execution_count": 77,
     "metadata": {},
     "output_type": "execute_result"
    }
   ],
   "source": [
    "import plotly.plotly as py\n",
    "py.sign_in('ilopezfr', '831tys9ifw')\n",
    "p = kmf.plot(ci_force_lines=True, title='Career Lengths of ODI players')\n",
    "kmf1 = plt.gcf()\n",
    "pyplot(kmf1)"
   ]
  },
  {
   "cell_type": "code",
   "execution_count": 81,
   "metadata": {
    "collapsed": false
   },
   "outputs": [
    {
     "data": {
      "text/plain": [
       "<lifelines.KaplanMeierFitter: fitted with 54593 observations, 48460 censored>"
      ]
     },
     "execution_count": 81,
     "metadata": {},
     "output_type": "execute_result"
    }
   ],
   "source": [
    "T = data1['days_since_signup']\n",
    "C = data1['started_driving']\n",
    "\n",
    "kmf.fit(T, C)"
   ]
  },
  {
   "cell_type": "markdown",
   "metadata": {},
   "source": [
    "Plotting the survival Curve for each __City__:"
   ]
  },
  {
   "cell_type": "code",
   "execution_count": 106,
   "metadata": {
    "collapsed": false
   },
   "outputs": [
    {
     "name": "stdout",
     "output_type": "stream",
     "text": [
      "Populating the interactive namespace from numpy and matplotlib\n"
     ]
    },
    {
     "data": {
      "image/png": "[encoded data removed]",
      "text/plain": [
       "<matplotlib.figure.Figure at 0x1242aeed0>"
      ]
     },
     "metadata": {},
     "output_type": "display_data"
    }
   ],
   "source": [
    "%pylab inline\n",
    "figsize( 12,6)\n",
    "ax = plt.subplot(111)\n",
    "for r in data1['city_name'].unique():\n",
    "    ix = data1['city_name'] == r\n",
    "    kmf.fit(T.ix[ix], C.ix[ix], label=r)\n",
    "    ax = kmf.plot(ax=ax)"
   ]
  },
  {
   "cell_type": "markdown",
   "metadata": {},
   "source": [
    "Wrouver has a higher survival curve than the Strark and Berton."
   ]
  },
  {
   "cell_type": "markdown",
   "metadata": {},
   "source": [
    "Plotting the survival Curve for each __channel__:"
   ]
  },
  {
   "cell_type": "code",
   "execution_count": 119,
   "metadata": {
    "collapsed": false
   },
   "outputs": [
    {
     "data": {
      "image/png": "[encoded data removed]",
      "text/plain": [
       "<matplotlib.figure.Figure at 0x11a495b90>"
      ]
     },
     "metadata": {},
     "output_type": "display_data"
    }
   ],
   "source": [
    "figsize( 12,6)\n",
    "ax = plt.subplot(111)\n",
    "for r in data1['signup_channel'].unique():\n",
    "    ix = data1['signup_channel'] == r\n",
    "    kmf.fit(T.ix[ix], C.ix[ix], label=r)\n",
    "    ax = kmf.plot(ax=ax)"
   ]
  },
  {
   "cell_type": "markdown",
   "metadata": {},
   "source": [
    "Paid and Organic have a higher survival curve. For Referral drivers the likelihood to start driving drops to 80% after 30 days since signup."
   ]
  },
  {
   "cell_type": "markdown",
   "metadata": {},
   "source": [
    "Plotting the survival Curve for each __channel__:"
   ]
  },
  {
   "cell_type": "markdown",
   "metadata": {},
   "source": [
    "**Attempt 2**: Data from 01/01 to 01/31"
   ]
  },
  {
   "cell_type": "code",
   "execution_count": 6,
   "metadata": {
    "collapsed": true
   },
   "outputs": [],
   "source": [
    "from dateutil import rrule, parser\n",
    "start = '2016-02-01' #Right censor data after January 31st \n",
    "end= '2016-03-31'  \n",
    "dates_rm = list(rrule.rrule(rrule.DAILY,\n",
    "                         dtstart=parser.parse(start),\n",
    "                         until=parser.parse(end)))"
   ]
  },
  {
   "cell_type": "code",
   "execution_count": 7,
   "metadata": {
    "collapsed": true
   },
   "outputs": [],
   "source": [
    "data2 = data[~data['bgc_date'].isin(dates_rm)]\n",
    "data2 = data2[~data2['vehicle_added_date'].isin(dates_rm)]\n",
    "data2 = data2[~data2['first_completed_date'].isin(dates_rm)]"
   ]
  },
  {
   "cell_type": "code",
   "execution_count": 8,
   "metadata": {
    "collapsed": true
   },
   "outputs": [],
   "source": [
    "#Create first_completed_date, censored=started_driving, days since signup. \n",
    "data2['first_completed_date'] = data['first_completed_date'].fillna('2016-01-31 00:00:00')\n",
    "data2['first_completed_date'] =  pd.to_datetime(data2['first_completed_date'])\n",
    "data2['days_since_signup'] = (data2['first_completed_date']  - data2['signup_date'])/ np.timedelta64(1, 'D')"
   ]
  },
  {
   "cell_type": "code",
   "execution_count": 9,
   "metadata": {
    "collapsed": false
   },
   "outputs": [
    {
     "data": {
      "text/plain": [
       "False    37243\n",
       "True      4028\n",
       "Name: started_driving, dtype: int64"
      ]
     },
     "execution_count": 9,
     "metadata": {},
     "output_type": "execute_result"
    }
   ],
   "source": [
    "data2.started_driving.value_counts().sort_index()"
   ]
  },
  {
   "cell_type": "code",
   "execution_count": 14,
   "metadata": {
    "collapsed": false
   },
   "outputs": [
    {
     "name": "stderr",
     "output_type": "stream",
     "text": [
      "/Users/iglopezfrancos/anaconda/lib/python2.7/site-packages/matplotlib/figure.py:1744: UserWarning: This figure includes Axes that are not compatible with tight_layout, so its results might be incorrect.\n",
      "  warnings.warn(\"This figure includes Axes that are not \"\n"
     ]
    },
    {
     "data": {
      "image/png": "[encoded data removed]",
      "text/plain": [
       "<matplotlib.figure.Figure at 0x1166ab790>"
      ]
     },
     "metadata": {},
     "output_type": "display_data"
    }
   ],
   "source": [
    "#pd.crosstab(data1['days_since_signup'], data1['started_driving'])\n",
    "%matplotlib inline\n",
    "fig, axes = plt.subplots(nrows=3, ncols=1, figsize=(10, 10), tight_layout=True)\n",
    "\n",
    "bins = np.arange(0, 31, 1)\n",
    "\n",
    "for ax, city_name in zip(axes.ravel(), cities):\n",
    "\n",
    "    ax.hist(data2[data2['started_driving'] == 1].days_since_signup, \n",
    "            bins=bins, histtype='stepfilled', color='r', ec='none', alpha=.3, normed=True)\n",
    "    ax.hist(data2[data2['started_driving'] == 0].days_since_signup, \n",
    "            bins=bins, histtype='stepfilled', color='b', ec='none', alpha=.3, normed=True)                 \n",
    "    #ax.set_yticks([])\n",
    "    ax.set_xlabel(\"Days\")\n",
    "\n",
    "    ax.set_ylim(0, .08)"
   ]
  },
  {
   "cell_type": "code",
   "execution_count": 135,
   "metadata": {
    "collapsed": false
   },
   "outputs": [
    {
     "data": {
      "text/html": [
       "<iframe id=\"igraph\" scrolling=\"no\" style=\"border:none;\" seamless=\"seamless\" src=\"https://plot.ly/~ilopezfr/12.embed\" height=\"525px\" width=\"100%\"></iframe>"
      ],
      "text/plain": [
       "<plotly.tools.PlotlyDisplay object>"
      ]
     },
     "execution_count": 135,
     "metadata": {},
     "output_type": "execute_result"
    }
   ],
   "source": [
    "kmf2 = KaplanMeierFitter()\n",
    "kmf2.fit(data2.days_since_signup, event_observed=data2.started_driving)\n",
    "\n",
    "py.sign_in('ilopezfr', '831tys9ifw')\n",
    "p = kmf2.plot(ci_force_lines=True, title='Career Lengths of ODI players')\n",
    "kmf2_1 = plt.gcf()\n",
    "pyplot(kmf2_1)"
   ]
  },
  {
   "cell_type": "markdown",
   "metadata": {},
   "source": [
    "Conclusion from Survival Analysis:\n",
    "\n",
    "With the current dataset and with only one month of data to project, we can say that the number of days since signup is inversely proportional to the likelihood of starting driving. For example, based on the Survival Curve there's a ~92% of chance that a driver will start driving if it's been only 15 days since he/she signed up. \n",
    "\n",
    "As we could expect, the results are very limited given the size of our data. We would need more months of data and as well higher quality in order to improve our model.  "
   ]
  },
  {
   "cell_type": "markdown",
   "metadata": {},
   "source": [
    "### Modeling"
   ]
  },
  {
   "cell_type": "markdown",
   "metadata": {},
   "source": [
    "A couple of decisions made when choosing the featured that are being included in the model: \n",
    "- Removed those features related to the vehicle, as they have around 75% missing values. \n",
    "- Left out date variables. Instead, included their transformations as days count and event binary variables. \n",
    "- Input missing values in singup_os with the most frequent value. \n",
    "- Dummy transformation of atergorical variables."
   ]
  },
  {
   "cell_type": "code",
   "execution_count": 15,
   "metadata": {
    "collapsed": false
   },
   "outputs": [
    {
     "name": "stdout",
     "output_type": "stream",
     "text": [
      "<class 'pandas.core.frame.DataFrame'>\n",
      "Int64Index: 41271 entries, 0 to 54680\n",
      "Data columns (total 7 columns):\n",
      "city_name            41271 non-null object\n",
      "signup_os            41271 non-null object\n",
      "signup_channel       41271 non-null object\n",
      "days_since_signup    41271 non-null float64\n",
      "has_bgc              41271 non-null bool\n",
      "has_va               41271 non-null bool\n",
      "started_driving      41271 non-null bool\n",
      "dtypes: bool(3), float64(1), object(3)\n",
      "memory usage: 1.7+ MB\n"
     ]
    }
   ],
   "source": [
    "df = data2[['city_name','signup_os', 'signup_channel', 'days_since_signup', \n",
    "            'has_bgc','has_va','started_driving']]\n",
    "df = df.apply(lambda x:x.fillna(x.value_counts().index[0]))\n",
    "df.info()"
   ]
  },
  {
   "cell_type": "code",
   "execution_count": 16,
   "metadata": {
    "collapsed": false
   },
   "outputs": [
    {
     "name": "stdout",
     "output_type": "stream",
     "text": [
      "<class 'pandas.core.frame.DataFrame'>\n",
      "Int64Index: 41271 entries, 0 to 54680\n",
      "Data columns (total 18 columns):\n",
      "city_name             41271 non-null object\n",
      "signup_os             41271 non-null object\n",
      "signup_channel        41271 non-null object\n",
      "days_since_signup     41271 non-null float64\n",
      "has_bgc               41271 non-null bool\n",
      "has_va                41271 non-null bool\n",
      "started_driving       41271 non-null bool\n",
      "city_Berton           41271 non-null float64\n",
      "city_Strark           41271 non-null float64\n",
      "city_Wrouver          41271 non-null float64\n",
      "device_android web    41271 non-null float64\n",
      "device_ios web        41271 non-null float64\n",
      "device_mac            41271 non-null float64\n",
      "device_other          41271 non-null float64\n",
      "device_windows        41271 non-null float64\n",
      "channel_Organic       41271 non-null float64\n",
      "channel_Paid          41271 non-null float64\n",
      "channel_Referral      41271 non-null float64\n",
      "dtypes: bool(3), float64(12), object(3)\n",
      "memory usage: 5.2+ MB\n"
     ]
    }
   ],
   "source": [
    "df = pd.concat([df, pd.get_dummies(df['city_name'], prefix='city')], axis=1)\n",
    "df = pd.concat([df, pd.get_dummies(df['signup_os'], prefix='device')], axis=1)\n",
    "df = pd.concat([df, pd.get_dummies(df['signup_channel'], prefix='channel')], axis=1)\n",
    "df.info()"
   ]
  },
  {
   "cell_type": "code",
   "execution_count": 17,
   "metadata": {
    "collapsed": false
   },
   "outputs": [
    {
     "name": "stderr",
     "output_type": "stream",
     "text": [
      "/Users/iglopezfrancos/anaconda/lib/python2.7/site-packages/ipykernel/__main__.py:2: FutureWarning: using '-' to provide set differences with Indexes is deprecated, use .difference()\n",
      "  from ipykernel import kernelapp as app\n"
     ]
    }
   ],
   "source": [
    "import random\n",
    "X = df[df.columns - ['started_driving','signup_os','signup_channel','city_name', \\\n",
    "                     'city_Berton', 'device_ios web','channel_Organic']]\n",
    "Y = df['started_driving']\n",
    "rows = random.sample(df.index, int(len(df)*.70))\n",
    "x_train, y_train = X.ix[rows],Y.ix[rows]\n",
    "x_test,y_test  = X.drop(rows),Y.drop(rows)"
   ]
  },
  {
   "cell_type": "code",
   "execution_count": 18,
   "metadata": {
    "collapsed": false
   },
   "outputs": [
    {
     "name": "stdout",
     "output_type": "stream",
     "text": [
      "Rows in train set: 28889\n",
      "Rows in test set: 12382\n"
     ]
    }
   ],
   "source": [
    "print \"Rows in train set: %s\" %len(x_train)\n",
    "print \"Rows in test set: %s\" %len(x_test)"
   ]
  },
  {
   "cell_type": "markdown",
   "metadata": {},
   "source": [
    "#### Gradient Boosting Model\n",
    "Fit a Gradient Tree Boosting model. "
   ]
  },
  {
   "cell_type": "code",
   "execution_count": 20,
   "metadata": {
    "collapsed": false
   },
   "outputs": [],
   "source": [
    "from sklearn.ensemble import GradientBoostingClassifier\n",
    "params = {'n_estimators': 200,'learning_rate': 0.1,'max_depth': 6}\n",
    "gbm_model = GradientBoostingClassifier(**params).fit(x_train, y_train)"
   ]
  },
  {
   "cell_type": "code",
   "execution_count": 21,
   "metadata": {
    "collapsed": false
   },
   "outputs": [
    {
     "name": "stdout",
     "output_type": "stream",
     "text": [
      "F1 score: 0.824831949387\n",
      "Precision: 0.819968553459\n",
      "Recall: 0.829753381066\n",
      "Accuracy: 0.964222258117\n"
     ]
    }
   ],
   "source": [
    "from sklearn.metrics import f1_score, precision_score, accuracy_score, \\\n",
    "recall_score, confusion_matrix, classification_report\n",
    "pred = gbm_model.predict(x_test)\n",
    "print \"F1 score:\", f1_score(y_test, pred)\n",
    "print \"Precision:\", precision_score(y_test, pred)\n",
    "print \"Recall:\", recall_score(y_test, pred)\n",
    "print \"Accuracy:\", accuracy_score(y_test, pred)"
   ]
  },
  {
   "cell_type": "code",
   "execution_count": 22,
   "metadata": {
    "collapsed": false
   },
   "outputs": [
    {
     "data": {
      "text/plain": [
       "<matplotlib.text.Text at 0x1199b4410>"
      ]
     },
     "execution_count": 22,
     "metadata": {},
     "output_type": "execute_result"
    },
    {
     "data": {
      "image/png": "[encoded data removed]",
      "text/plain": [
       "<matplotlib.figure.Figure at 0x1168f71d0>"
      ]
     },
     "metadata": {},
     "output_type": "display_data"
    }
   ],
   "source": [
    "import matplotlib.pyplot as plt\n",
    "\n",
    "# compute test set deviance\n",
    "test_score = np.zeros((params['n_estimators'],), dtype=np.float64)\n",
    "\n",
    "for i, y_pred in enumerate(gbm_model.staged_decision_function(x_test)):\n",
    "    test_score[i] = gbm_model.loss_(y_test, y_pred)\n",
    "\n",
    "plt.figure(figsize=(12, 6))\n",
    "plt.subplot(1, 1, 1)\n",
    "plt.title('Deviance')\n",
    "plt.plot(np.arange(params['n_estimators']) + 1, gbm_model.train_score_, 'b-',\n",
    "                label='Training Set Deviance')\n",
    "plt.plot(np.arange(params['n_estimators']) + 1, test_score, 'r-',\n",
    "                label='Test Set Deviance')\n",
    "plt.legend(loc='upper right')\n",
    "plt.xlabel('Boosting Iterations')\n",
    "plt.ylabel('Deviance')"
   ]
  },
  {
   "cell_type": "markdown",
   "metadata": {},
   "source": [
    "We can see that with the original set of parameters chosen, the separation between both training and testing curves indicates some overfitting, but in general a good balance between bias and variance. This model will require some parameter tuning."
   ]
  },
  {
   "cell_type": "code",
   "execution_count": 23,
   "metadata": {
    "collapsed": false
   },
   "outputs": [
    {
     "data": {
      "text/plain": [
       "array([[10896,   229],\n",
       "       [  214,  1043]])"
      ]
     },
     "execution_count": 23,
     "metadata": {},
     "output_type": "execute_result"
    }
   ],
   "source": [
    "cm = confusion_matrix(y_test, pred)\n",
    "cm"
   ]
  },
  {
   "cell_type": "markdown",
   "metadata": {},
   "source": [
    "We'll now try **Cross-Validation** to find out the best set of tuning parameters for the GBM"
   ]
  },
  {
   "cell_type": "code",
   "execution_count": 53,
   "metadata": {
    "collapsed": false
   },
   "outputs": [],
   "source": [
    "from sklearn.ensemble import GradientBoostingClassifier\n",
    "from sklearn.grid_search import GridSearchCV\n",
    "\n",
    "param_grid = {'n_estimators': [200],\n",
    "          'learning_rate': [0.1, 0.05],\n",
    "          'max_depth': [1, 4, 6],\n",
    "          'min_samples_leaf': [1],\n",
    "          'max_features': [1.0, 0.5, 0.1],\n",
    "          'subsample': [1.0, 0.5, 0.1]\n",
    "         }\n",
    "\n",
    "gbm_model = GradientBoostingClassifier()\n",
    "gbm_cv_model = GridSearchCV(gbm_model, param_grid, scoring = \"f1\").fit(x_train, y_train)"
   ]
  },
  {
   "cell_type": "code",
   "execution_count": 58,
   "metadata": {
    "collapsed": false
   },
   "outputs": [
    {
     "data": {
      "text/plain": [
       "{'learning_rate': 0.05,\n",
       " 'max_depth': 1,\n",
       " 'max_features': 1.0,\n",
       " 'min_samples_leaf': 1,\n",
       " 'n_estimators': 200,\n",
       " 'subsample': 0.5}"
      ]
     },
     "execution_count": 58,
     "metadata": {},
     "output_type": "execute_result"
    }
   ],
   "source": [
    "gbm_cv_model.best_params_"
   ]
  },
  {
   "cell_type": "code",
   "execution_count": 59,
   "metadata": {
    "collapsed": true
   },
   "outputs": [],
   "source": [
    "param_best = gbm_cv_model.best_params_"
   ]
  },
  {
   "cell_type": "code",
   "execution_count": 60,
   "metadata": {
    "collapsed": true
   },
   "outputs": [],
   "source": [
    "gbm_model_best = GradientBoostingClassifier(**param_best).fit(x_train, y_train)"
   ]
  },
  {
   "cell_type": "code",
   "execution_count": 61,
   "metadata": {
    "collapsed": false
   },
   "outputs": [
    {
     "name": "stdout",
     "output_type": "stream",
     "text": [
      "F1 score: 0.825346534653\n",
      "Precision: 0.801538461538\n",
      "Recall: 0.850612244898\n",
      "Accuracy: 0.964383782911\n"
     ]
    }
   ],
   "source": [
    "pred = gbm_model_best.predict(x_test)\n",
    "print \"F1 score:\", f1_score(y_test, pred)\n",
    "print \"Precision:\", precision_score(y_test, pred)\n",
    "print \"Recall:\", recall_score(y_test, pred)\n",
    "print \"Accuracy:\", accuracy_score(y_test, pred)"
   ]
  },
  {
   "cell_type": "code",
   "execution_count": 66,
   "metadata": {
    "collapsed": false
   },
   "outputs": [
    {
     "data": {
      "text/plain": [
       "<matplotlib.text.Text at 0x1238afdd0>"
      ]
     },
     "execution_count": 66,
     "metadata": {},
     "output_type": "execute_result"
    },
    {
     "data": {
      "image/png": "[encoded data removed]",
      "text/plain": [
       "<matplotlib.figure.Figure at 0x1243f40d0>"
      ]
     },
     "metadata": {},
     "output_type": "display_data"
    }
   ],
   "source": [
    "import matplotlib.pyplot as plt\n",
    "\n",
    "# compute test set deviance\n",
    "test_score = np.zeros((param_best['n_estimators'],), dtype=np.float64)\n",
    "\n",
    "for i, y_pred in enumerate(gbm_model_best.staged_decision_function(x_test)):\n",
    "    test_score[i] = gbm_model_best.loss_(y_test, y_pred)\n",
    "\n",
    "plt.figure(figsize=(12, 6))\n",
    "plt.subplot(1, 1, 1)\n",
    "plt.title('Deviance')\n",
    "plt.plot(np.arange(param_best['n_estimators']) + 1, gbm_model_best.train_score_, 'b-',\n",
    "                label='Training Set Deviance')\n",
    "plt.plot(np.arange(param_best['n_estimators']) + 1, test_score, 'r-',\n",
    "                label='Test Set Deviance')\n",
    "plt.legend(loc='upper right')\n",
    "plt.xlabel('Boosting Iterations')\n",
    "plt.ylabel('Deviance')"
   ]
  },
  {
   "cell_type": "markdown",
   "metadata": {},
   "source": [
    "Compared to the model with arbitary set of parameters, the model with the best set of parameter has no overfitting and generalize very well."
   ]
  },
  {
   "cell_type": "code",
   "execution_count": 67,
   "metadata": {
    "collapsed": false
   },
   "outputs": [
    {
     "data": {
      "text/plain": [
       "array([[10899,   258],\n",
       "       [  183,  1042]])"
      ]
     },
     "execution_count": 67,
     "metadata": {},
     "output_type": "execute_result"
    }
   ],
   "source": [
    "cm = confusion_matrix(y_test, pred)\n",
    "cm"
   ]
  },
  {
   "cell_type": "markdown",
   "metadata": {},
   "source": [
    "#### Random Forest Model"
   ]
  },
  {
   "cell_type": "code",
   "execution_count": 69,
   "metadata": {
    "collapsed": false
   },
   "outputs": [
    {
     "data": {
      "text/html": [
       "<div>\n",
       "<table border=\"1\" class=\"dataframe\">\n",
       "  <thead>\n",
       "    <tr style=\"text-align: right;\">\n",
       "      <th></th>\n",
       "      <th>Features</th>\n",
       "      <th>Importance Score</th>\n",
       "    </tr>\n",
       "  </thead>\n",
       "  <tbody>\n",
       "    <tr>\n",
       "      <th>10</th>\n",
       "      <td>has_va</td>\n",
       "      <td>0.581212</td>\n",
       "    </tr>\n",
       "    <tr>\n",
       "      <th>4</th>\n",
       "      <td>days_since_signup</td>\n",
       "      <td>0.268707</td>\n",
       "    </tr>\n",
       "    <tr>\n",
       "      <th>9</th>\n",
       "      <td>has_bgc</td>\n",
       "      <td>0.065796</td>\n",
       "    </tr>\n",
       "    <tr>\n",
       "      <th>1</th>\n",
       "      <td>channel_Referral</td>\n",
       "      <td>0.030936</td>\n",
       "    </tr>\n",
       "    <tr>\n",
       "      <th>0</th>\n",
       "      <td>channel_Paid</td>\n",
       "      <td>0.015294</td>\n",
       "    </tr>\n",
       "    <tr>\n",
       "      <th>2</th>\n",
       "      <td>city_Strark</td>\n",
       "      <td>0.009332</td>\n",
       "    </tr>\n",
       "    <tr>\n",
       "      <th>8</th>\n",
       "      <td>device_windows</td>\n",
       "      <td>0.006552</td>\n",
       "    </tr>\n",
       "    <tr>\n",
       "      <th>5</th>\n",
       "      <td>device_android web</td>\n",
       "      <td>0.006075</td>\n",
       "    </tr>\n",
       "    <tr>\n",
       "      <th>3</th>\n",
       "      <td>city_Wrouver</td>\n",
       "      <td>0.005980</td>\n",
       "    </tr>\n",
       "    <tr>\n",
       "      <th>6</th>\n",
       "      <td>device_mac</td>\n",
       "      <td>0.005487</td>\n",
       "    </tr>\n",
       "    <tr>\n",
       "      <th>7</th>\n",
       "      <td>device_other</td>\n",
       "      <td>0.004629</td>\n",
       "    </tr>\n",
       "  </tbody>\n",
       "</table>\n",
       "</div>"
      ],
      "text/plain": [
       "              Features  Importance Score\n",
       "10              has_va          0.581212\n",
       "4    days_since_signup          0.268707\n",
       "9              has_bgc          0.065796\n",
       "1     channel_Referral          0.030936\n",
       "0         channel_Paid          0.015294\n",
       "2          city_Strark          0.009332\n",
       "8       device_windows          0.006552\n",
       "5   device_android web          0.006075\n",
       "3         city_Wrouver          0.005980\n",
       "6           device_mac          0.005487\n",
       "7         device_other          0.004629"
      ]
     },
     "execution_count": 69,
     "metadata": {},
     "output_type": "execute_result"
    }
   ],
   "source": [
    "from sklearn.ensemble import RandomForestClassifier\n",
    "\n",
    "rf_model = RandomForestClassifier(n_estimators=50)\n",
    "rf_model.fit(x_train, y_train)\n",
    "\n",
    "\n",
    "features = X.columns\n",
    "feature_importances = rf_model.feature_importances_\n",
    "\n",
    "features_df = pd.DataFrame({'Features': features, 'Importance Score': feature_importances})\n",
    "features_df.sort_values('Importance Score', inplace=True, ascending=False)\n",
    "\n",
    "features_df"
   ]
  },
  {
   "cell_type": "code",
   "execution_count": 70,
   "metadata": {
    "collapsed": false
   },
   "outputs": [
    {
     "name": "stdout",
     "output_type": "stream",
     "text": [
      "CV AUC [ 0.96758928  0.96316445  0.97133032], Average AUC 0.967361349564\n"
     ]
    }
   ],
   "source": [
    "# Evaluate the Random Forest model using cross-validation:\n",
    "from sklearn.cross_validation import cross_val_score\n",
    "\n",
    "scores = cross_val_score(rf_model, x_test, y_test, scoring='roc_auc')\n",
    "print('CV AUC {}, Average AUC {}'.format(scores, scores.mean()))"
   ]
  },
  {
   "cell_type": "code",
   "execution_count": 71,
   "metadata": {
    "collapsed": false
   },
   "outputs": [
    {
     "name": "stdout",
     "output_type": "stream",
     "text": [
      "F1 score: 0.798566878981\n",
      "Precision: 0.779331779332\n",
      "Recall: 0.818775510204\n",
      "Accuracy: 0.959134227104\n"
     ]
    }
   ],
   "source": [
    "pred_rf = rf_model.predict(x_test)\n",
    "print \"F1 score:\", f1_score(y_test, pred_rf)\n",
    "print \"Precision:\", precision_score(y_test, pred_rf)\n",
    "print \"Recall:\", recall_score(y_test, pred_rf)\n",
    "print \"Accuracy:\", accuracy_score(y_test, pred_rf)"
   ]
  },
  {
   "cell_type": "markdown",
   "metadata": {},
   "source": [
    "We can conclude that GBM beats RF this time. "
   ]
  },
  {
   "cell_type": "markdown",
   "metadata": {},
   "source": [
    "### Modeling (Part II)"
   ]
  },
  {
   "cell_type": "markdown",
   "metadata": {},
   "source": [
    "Let's now build a model with those drivers that **registered their vehicle** (has_va = 1) and see if there's any correlation with the characteristics of the vehicle and the likelihood to start driving. "
   ]
  },
  {
   "cell_type": "code",
   "execution_count": 53,
   "metadata": {
    "collapsed": false
   },
   "outputs": [
    {
     "name": "stdout",
     "output_type": "stream",
     "text": [
      "<class 'pandas.core.frame.DataFrame'>\n",
      "Int64Index: 13134 entries, 3 to 54304\n",
      "Data columns (total 20 columns):\n",
      "id                      13134 non-null object\n",
      "city_name               13134 non-null object\n",
      "signup_os               12606 non-null object\n",
      "signup_channel          13134 non-null object\n",
      "signup_date             13134 non-null datetime64[ns]\n",
      "bgc_date                12879 non-null datetime64[ns]\n",
      "vehicle_added_date      13134 non-null datetime64[ns]\n",
      "vehicle_make            13134 non-null object\n",
      "vehicle_model           13134 non-null object\n",
      "vehicle_year            13134 non-null float64\n",
      "first_completed_date    5872 non-null datetime64[ns]\n",
      "started_driving         13134 non-null bool\n",
      "has_bgc                 13134 non-null bool\n",
      "has_va                  13134 non-null bool\n",
      "days_to_bgc             12879 non-null float64\n",
      "days_to_va              13134 non-null float64\n",
      "days_to_fc              5872 non-null float64\n",
      "Berton                  13134 non-null float64\n",
      "Strark                  13134 non-null float64\n",
      "Wrouver                 13134 non-null float64\n",
      "dtypes: bool(3), datetime64[ns](4), float64(7), object(6)\n",
      "memory usage: 1.8+ MB\n"
     ]
    }
   ],
   "source": [
    "data_va = data[data['has_va'] == 1]\n",
    "data_va.info()"
   ]
  },
  {
   "cell_type": "code",
   "execution_count": 54,
   "metadata": {
    "collapsed": false
   },
   "outputs": [
    {
     "data": {
      "image/png": "[encoded data removed]",
      "text/plain": [
       "<matplotlib.figure.Figure at 0x120ef14d0>"
      ]
     },
     "metadata": {},
     "output_type": "display_data"
    }
   ],
   "source": [
    "va_ct = pd.crosstab(index = data_va['vehicle_added_date'],columns = data_va['started_driving'])\n",
    "ax = va_ct.plot(kind=\"bar\", stacked = True,\n",
    "                 figsize=(14,8), color =[\"r\",\"b\"],  alpha=.5, title = \"Distribution of signups by vehicle added date\")"
   ]
  },
  {
   "cell_type": "code",
   "execution_count": 55,
   "metadata": {
    "collapsed": false
   },
   "outputs": [
    {
     "data": {
      "text/plain": [
       "id                         0\n",
       "city_name                  0\n",
       "signup_os                528\n",
       "signup_channel             0\n",
       "signup_date                0\n",
       "bgc_date                 255\n",
       "vehicle_added_date         0\n",
       "vehicle_make               0\n",
       "vehicle_model              0\n",
       "vehicle_year               0\n",
       "first_completed_date    7262\n",
       "started_driving            0\n",
       "has_bgc                    0\n",
       "has_va                     0\n",
       "days_to_bgc              255\n",
       "days_to_va                 0\n",
       "days_to_fc              7262\n",
       "Berton                     0\n",
       "Strark                     0\n",
       "Wrouver                    0\n",
       "dtype: int64"
      ]
     },
     "execution_count": 55,
     "metadata": {},
     "output_type": "execute_result"
    }
   ],
   "source": [
    "data_va.apply(lambda x: sum(x.isnull()),axis=0)"
   ]
  },
  {
   "cell_type": "code",
   "execution_count": 56,
   "metadata": {
    "collapsed": false
   },
   "outputs": [
    {
     "data": {
      "text/html": [
       "<div>\n",
       "<table border=\"1\" class=\"dataframe\">\n",
       "  <thead>\n",
       "    <tr style=\"text-align: right;\">\n",
       "      <th></th>\n",
       "      <th>id</th>\n",
       "      <th>city_name</th>\n",
       "      <th>signup_os</th>\n",
       "      <th>signup_channel</th>\n",
       "      <th>signup_date</th>\n",
       "      <th>bgc_date</th>\n",
       "      <th>vehicle_added_date</th>\n",
       "      <th>vehicle_make</th>\n",
       "      <th>vehicle_model</th>\n",
       "      <th>vehicle_year</th>\n",
       "      <th>first_completed_date</th>\n",
       "      <th>started_driving</th>\n",
       "      <th>has_bgc</th>\n",
       "      <th>has_va</th>\n",
       "      <th>days_to_bgc</th>\n",
       "      <th>days_to_va</th>\n",
       "      <th>days_to_fc</th>\n",
       "      <th>Berton</th>\n",
       "      <th>Strark</th>\n",
       "      <th>Wrouver</th>\n",
       "    </tr>\n",
       "  </thead>\n",
       "  <tbody>\n",
       "    <tr>\n",
       "      <th>3</th>\n",
       "      <td>0            1\\n1            2\\n2            3...</td>\n",
       "      <td>Berton</td>\n",
       "      <td>android web</td>\n",
       "      <td>Referral</td>\n",
       "      <td>2016-01-29</td>\n",
       "      <td>2016-02-03</td>\n",
       "      <td>2016-02-03</td>\n",
       "      <td>Toyota</td>\n",
       "      <td>Corolla</td>\n",
       "      <td>2016.0</td>\n",
       "      <td>2016-02-03</td>\n",
       "      <td>True</td>\n",
       "      <td>True</td>\n",
       "      <td>True</td>\n",
       "      <td>5.0</td>\n",
       "      <td>5.0</td>\n",
       "      <td>5.0</td>\n",
       "      <td>1.0</td>\n",
       "      <td>0.0</td>\n",
       "      <td>0.0</td>\n",
       "    </tr>\n",
       "    <tr>\n",
       "      <th>4</th>\n",
       "      <td>0            1\\n1            2\\n2            3...</td>\n",
       "      <td>Strark</td>\n",
       "      <td>android web</td>\n",
       "      <td>Referral</td>\n",
       "      <td>2016-01-10</td>\n",
       "      <td>2016-01-25</td>\n",
       "      <td>2016-01-26</td>\n",
       "      <td>Hyundai</td>\n",
       "      <td>Sonata</td>\n",
       "      <td>2016.0</td>\n",
       "      <td>NaT</td>\n",
       "      <td>False</td>\n",
       "      <td>True</td>\n",
       "      <td>True</td>\n",
       "      <td>15.0</td>\n",
       "      <td>16.0</td>\n",
       "      <td>NaN</td>\n",
       "      <td>0.0</td>\n",
       "      <td>1.0</td>\n",
       "      <td>0.0</td>\n",
       "    </tr>\n",
       "    <tr>\n",
       "      <th>5</th>\n",
       "      <td>0            1\\n1            2\\n2            3...</td>\n",
       "      <td>Strark</td>\n",
       "      <td>android web</td>\n",
       "      <td>Referral</td>\n",
       "      <td>2016-01-18</td>\n",
       "      <td>2016-01-18</td>\n",
       "      <td>2016-01-22</td>\n",
       "      <td>Cadillac</td>\n",
       "      <td>DTS</td>\n",
       "      <td>2006.0</td>\n",
       "      <td>NaT</td>\n",
       "      <td>False</td>\n",
       "      <td>True</td>\n",
       "      <td>True</td>\n",
       "      <td>0.0</td>\n",
       "      <td>4.0</td>\n",
       "      <td>NaN</td>\n",
       "      <td>0.0</td>\n",
       "      <td>1.0</td>\n",
       "      <td>0.0</td>\n",
       "    </tr>\n",
       "    <tr>\n",
       "      <th>6</th>\n",
       "      <td>0            1\\n1            2\\n2            3...</td>\n",
       "      <td>Strark</td>\n",
       "      <td>ios web</td>\n",
       "      <td>Paid</td>\n",
       "      <td>2016-01-14</td>\n",
       "      <td>2016-01-16</td>\n",
       "      <td>2016-01-21</td>\n",
       "      <td>Toyota</td>\n",
       "      <td>Prius V</td>\n",
       "      <td>2014.0</td>\n",
       "      <td>2016-01-23</td>\n",
       "      <td>True</td>\n",
       "      <td>True</td>\n",
       "      <td>True</td>\n",
       "      <td>2.0</td>\n",
       "      <td>7.0</td>\n",
       "      <td>9.0</td>\n",
       "      <td>0.0</td>\n",
       "      <td>1.0</td>\n",
       "      <td>0.0</td>\n",
       "    </tr>\n",
       "    <tr>\n",
       "      <th>10</th>\n",
       "      <td>0            1\\n1            2\\n2            3...</td>\n",
       "      <td>Strark</td>\n",
       "      <td>ios web</td>\n",
       "      <td>Referral</td>\n",
       "      <td>2016-01-18</td>\n",
       "      <td>2016-02-09</td>\n",
       "      <td>2016-02-24</td>\n",
       "      <td>Kia</td>\n",
       "      <td>Optima</td>\n",
       "      <td>2015.0</td>\n",
       "      <td>NaT</td>\n",
       "      <td>False</td>\n",
       "      <td>True</td>\n",
       "      <td>True</td>\n",
       "      <td>22.0</td>\n",
       "      <td>37.0</td>\n",
       "      <td>NaN</td>\n",
       "      <td>0.0</td>\n",
       "      <td>1.0</td>\n",
       "      <td>0.0</td>\n",
       "    </tr>\n",
       "  </tbody>\n",
       "</table>\n",
       "</div>"
      ],
      "text/plain": [
       "                                                   id city_name    signup_os  \\\n",
       "3   0            1\\n1            2\\n2            3...    Berton  android web   \n",
       "4   0            1\\n1            2\\n2            3...    Strark  android web   \n",
       "5   0            1\\n1            2\\n2            3...    Strark  android web   \n",
       "6   0            1\\n1            2\\n2            3...    Strark      ios web   \n",
       "10  0            1\\n1            2\\n2            3...    Strark      ios web   \n",
       "\n",
       "   signup_channel signup_date   bgc_date vehicle_added_date vehicle_make  \\\n",
       "3        Referral  2016-01-29 2016-02-03         2016-02-03       Toyota   \n",
       "4        Referral  2016-01-10 2016-01-25         2016-01-26      Hyundai   \n",
       "5        Referral  2016-01-18 2016-01-18         2016-01-22     Cadillac   \n",
       "6            Paid  2016-01-14 2016-01-16         2016-01-21       Toyota   \n",
       "10       Referral  2016-01-18 2016-02-09         2016-02-24          Kia   \n",
       "\n",
       "   vehicle_model  vehicle_year first_completed_date started_driving has_bgc  \\\n",
       "3        Corolla        2016.0           2016-02-03            True    True   \n",
       "4         Sonata        2016.0                  NaT           False    True   \n",
       "5            DTS        2006.0                  NaT           False    True   \n",
       "6        Prius V        2014.0           2016-01-23            True    True   \n",
       "10        Optima        2015.0                  NaT           False    True   \n",
       "\n",
       "   has_va  days_to_bgc  days_to_va  days_to_fc  Berton  Strark  Wrouver  \n",
       "3    True          5.0         5.0         5.0     1.0     0.0      0.0  \n",
       "4    True         15.0        16.0         NaN     0.0     1.0      0.0  \n",
       "5    True          0.0         4.0         NaN     0.0     1.0      0.0  \n",
       "6    True          2.0         7.0         9.0     0.0     1.0      0.0  \n",
       "10   True         22.0        37.0         NaN     0.0     1.0      0.0  "
      ]
     },
     "execution_count": 56,
     "metadata": {},
     "output_type": "execute_result"
    }
   ],
   "source": [
    "data_va.head()"
   ]
  },
  {
   "cell_type": "code",
   "execution_count": 57,
   "metadata": {
    "collapsed": false
   },
   "outputs": [
    {
     "name": "stdout",
     "output_type": "stream",
     "text": [
      "we've removed 43 drivers\n"
     ]
    }
   ],
   "source": [
    "from dateutil import rrule, parser\n",
    "start = '2016-03-01'   #Right censor data after February 29th  (for those who never started driving) \n",
    "end= '2016-03-31'    \n",
    "dates_rm = list(rrule.rrule(rrule.DAILY,\n",
    "                         dtstart=parser.parse(start),\n",
    "                         until=parser.parse(end)))\n",
    "\n",
    "#Remove every driver that registered their vehicle after Feb 29th. \n",
    "data_va1 = data_va[~data_va['vehicle_added_date'].isin(dates_rm)]   \n",
    "print \"we've removed %s drivers\" %(len(data_va)-len(data_va1))"
   ]
  },
  {
   "cell_type": "code",
   "execution_count": 58,
   "metadata": {
    "collapsed": false
   },
   "outputs": [
    {
     "name": "stderr",
     "output_type": "stream",
     "text": [
      "/Users/iglopezfrancos/anaconda/lib/python2.7/site-packages/ipykernel/__main__.py:3: SettingWithCopyWarning: \n",
      "A value is trying to be set on a copy of a slice from a DataFrame.\n",
      "Try using .loc[row_indexer,col_indexer] = value instead\n",
      "\n",
      "See the caveats in the documentation: http://pandas.pydata.org/pandas-docs/stable/indexing.html#indexing-view-versus-copy\n",
      "  app.launch_new_instance()\n",
      "/Users/iglopezfrancos/anaconda/lib/python2.7/site-packages/ipykernel/__main__.py:4: SettingWithCopyWarning: \n",
      "A value is trying to be set on a copy of a slice from a DataFrame.\n",
      "Try using .loc[row_indexer,col_indexer] = value instead\n",
      "\n",
      "See the caveats in the documentation: http://pandas.pydata.org/pandas-docs/stable/indexing.html#indexing-view-versus-copy\n"
     ]
    }
   ],
   "source": [
    "# Fill up first_complete_date with last observation point (Feb 29th), create days_since_signup.\n",
    "x = data_va1.loc[:,('first_completed_date')].fillna('2016-02-29 00:00:00')\n",
    "data_va1['first_completed_date'] =  pd.to_datetime(x)\n",
    "data_va1['days_since_signup'] = (data_va1['first_completed_date']  - data_va1['signup_date'])/ np.timedelta64(1, 'D')"
   ]
  },
  {
   "cell_type": "code",
   "execution_count": 59,
   "metadata": {
    "collapsed": false
   },
   "outputs": [
    {
     "data": {
      "text/plain": [
       "id                         0\n",
       "city_name                  0\n",
       "signup_os                524\n",
       "signup_channel             0\n",
       "signup_date                0\n",
       "bgc_date                 243\n",
       "vehicle_added_date         0\n",
       "vehicle_make               0\n",
       "vehicle_model              0\n",
       "vehicle_year               0\n",
       "first_completed_date       0\n",
       "started_driving            0\n",
       "has_bgc                    0\n",
       "has_va                     0\n",
       "days_to_bgc              243\n",
       "days_to_va                 0\n",
       "days_to_fc              7221\n",
       "Berton                     0\n",
       "Strark                     0\n",
       "Wrouver                    0\n",
       "days_since_signup          0\n",
       "dtype: int64"
      ]
     },
     "execution_count": 59,
     "metadata": {},
     "output_type": "execute_result"
    }
   ],
   "source": [
    "data_va1.apply(lambda x: sum(x.isnull()),axis=0)"
   ]
  },
  {
   "cell_type": "code",
   "execution_count": 60,
   "metadata": {
    "collapsed": false
   },
   "outputs": [
    {
     "name": "stdout",
     "output_type": "stream",
     "text": [
      "<class 'pandas.core.frame.DataFrame'>\n",
      "Int64Index: 13091 entries, 3 to 54304\n",
      "Data columns (total 8 columns):\n",
      "city_name            13091 non-null object\n",
      "signup_os            13091 non-null object\n",
      "signup_channel       13091 non-null object\n",
      "days_since_signup    13091 non-null float64\n",
      "vehicle_make         13091 non-null object\n",
      "vehicle_model        13091 non-null object\n",
      "vehicle_year         13091 non-null float64\n",
      "started_driving      13091 non-null bool\n",
      "dtypes: bool(1), float64(2), object(5)\n",
      "memory usage: 831.0+ KB\n"
     ]
    }
   ],
   "source": [
    "#Select the variables for this model\n",
    "df_va = data_va1[['city_name','signup_os', 'signup_channel', 'days_since_signup',\n",
    "                 'vehicle_make', 'vehicle_model', 'vehicle_year', 'started_driving']]\n",
    "                 \n",
    "df_va = df_va.apply(lambda x:x.fillna(x.value_counts().index[0]))\n",
    "df_va.info()"
   ]
  },
  {
   "cell_type": "code",
   "execution_count": 61,
   "metadata": {
    "collapsed": false
   },
   "outputs": [],
   "source": [
    "# Create the dummies (Don't run this twice!)\n",
    "df_va = pd.concat([df_va, pd.get_dummies(df_va['city_name'], prefix='city')], axis=1)\n",
    "df_va = pd.concat([df_va, pd.get_dummies(df_va['signup_os'], prefix='device')], axis=1)\n",
    "df_va = pd.concat([df_va, pd.get_dummies(df_va['signup_channel'], prefix='channel')], axis=1)\n",
    "df_va = pd.concat([df_va, pd.get_dummies(df_va['vehicle_make'], prefix='v_make')], axis=1)  # For now let's just bring vehicle maker"
   ]
  },
  {
   "cell_type": "code",
   "execution_count": 62,
   "metadata": {
    "collapsed": false
   },
   "outputs": [
    {
     "name": "stdout",
     "output_type": "stream",
     "text": [
      "<class 'pandas.core.frame.DataFrame'>\n",
      "Int64Index: 13091 entries, 3 to 54304\n",
      "Data columns (total 65 columns):\n",
      "city_name               13091 non-null object\n",
      "signup_os               13091 non-null object\n",
      "signup_channel          13091 non-null object\n",
      "days_since_signup       13091 non-null float64\n",
      "vehicle_make            13091 non-null object\n",
      "vehicle_model           13091 non-null object\n",
      "vehicle_year            13091 non-null float64\n",
      "started_driving         13091 non-null bool\n",
      "city_Berton             13091 non-null float64\n",
      "city_Strark             13091 non-null float64\n",
      "city_Wrouver            13091 non-null float64\n",
      "device_android web      13091 non-null float64\n",
      "device_ios web          13091 non-null float64\n",
      "device_mac              13091 non-null float64\n",
      "device_other            13091 non-null float64\n",
      "device_windows          13091 non-null float64\n",
      "channel_Organic         13091 non-null float64\n",
      "channel_Paid            13091 non-null float64\n",
      "channel_Referral        13091 non-null float64\n",
      "v_make_Acura            13091 non-null float64\n",
      "v_make_Audi             13091 non-null float64\n",
      "v_make_Autobot          13091 non-null float64\n",
      "v_make_BMW              13091 non-null float64\n",
      "v_make_Bentley          13091 non-null float64\n",
      "v_make_Bicycle          13091 non-null float64\n",
      "v_make_Bike             13091 non-null float64\n",
      "v_make_Buick            13091 non-null float64\n",
      "v_make_Cadillac         13091 non-null float64\n",
      "v_make_Chevrolet        13091 non-null float64\n",
      "v_make_Chrysler         13091 non-null float64\n",
      "v_make_Dodge            13091 non-null float64\n",
      "v_make_Fiat             13091 non-null float64\n",
      "v_make_Ford             13091 non-null float64\n",
      "v_make_GMC              13091 non-null float64\n",
      "v_make_Honda            13091 non-null float64\n",
      "v_make_Hummer           13091 non-null float64\n",
      "v_make_Hyundai          13091 non-null float64\n",
      "v_make_Infiniti         13091 non-null float64\n",
      "v_make_Isuzu            13091 non-null float64\n",
      "v_make_Jaguar           13091 non-null float64\n",
      "v_make_Jeep             13091 non-null float64\n",
      "v_make_Kia              13091 non-null float64\n",
      "v_make_Land Rover       13091 non-null float64\n",
      "v_make_Lexus            13091 non-null float64\n",
      "v_make_Lincoln          13091 non-null float64\n",
      "v_make_Maserati         13091 non-null float64\n",
      "v_make_Mazda            13091 non-null float64\n",
      "v_make_Mercedes-Benz    13091 non-null float64\n",
      "v_make_Mercury          13091 non-null float64\n",
      "v_make_Mini             13091 non-null float64\n",
      "v_make_Mitsubishi       13091 non-null float64\n",
      "v_make_Nissan           13091 non-null float64\n",
      "v_make_Oldsmobile       13091 non-null float64\n",
      "v_make_Pontiac          13091 non-null float64\n",
      "v_make_Porsche          13091 non-null float64\n",
      "v_make_Saab             13091 non-null float64\n",
      "v_make_Saturn           13091 non-null float64\n",
      "v_make_Scion            13091 non-null float64\n",
      "v_make_Subaru           13091 non-null float64\n",
      "v_make_Suzuki           13091 non-null float64\n",
      "v_make_Tesla            13091 non-null float64\n",
      "v_make_Toyota           13091 non-null float64\n",
      "v_make_Volkswagen       13091 non-null float64\n",
      "v_make_Volvo            13091 non-null float64\n",
      "v_make_Walker           13091 non-null float64\n",
      "dtypes: bool(1), float64(59), object(5)\n",
      "memory usage: 6.5+ MB\n"
     ]
    }
   ],
   "source": [
    "df_va.info()"
   ]
  },
  {
   "cell_type": "code",
   "execution_count": 49,
   "metadata": {
    "collapsed": false
   },
   "outputs": [
    {
     "name": "stdout",
     "output_type": "stream",
     "text": [
      "['ToyotaCorolla' 'HyundaiSonata' 'CadillacDTS' 'ToyotaPrius V' 'KiaOptima'\n",
      " 'DodgeDurango' 'Mercedes-BenzC-Class' 'InfinitiG Sedan' 'HondaCivic'\n",
      " 'Fiat500X' 'CadillacEscalade' 'AcuraRDX' 'LexusES' 'ToyotaPrius'\n",
      " 'HondaCR-V' 'LexusCT' 'GMCTerrain' 'PontiacG6' 'HondaCivic Hybrid'\n",
      " 'NissanVersa' 'HondaOdyssey' 'JeepGrand Cherokee' 'VolkswagenGTI'\n",
      " 'FordF-150' 'AudiA4' 'HondaInsight Hybrid' 'HyundaiElantra' 'ToyotaCamry'\n",
      " 'NissanSentra' 'ChevroletMalibu' 'KiaSoul' 'NissanAltima' 'DodgeJourney'\n",
      " 'JeepCompass' 'BMW3-series' 'ChevroletCruze' 'SubaruForester'\n",
      " 'BuickCentury' 'HondaAccord' 'MazdaMAZDA3' 'SubaruXV Crosstrek'\n",
      " 'DodgeCharger' 'FordFlex' 'BMW7-series' 'ToyotaRAV4' 'ChevroletTraverse'\n",
      " 'DodgeAvenger' 'VolkswagenJetta' 'FordExpedition' 'LexusIS'\n",
      " 'ChryslerTown and Country' 'ToyotaSienna' 'ScioniM' 'FordFreestyle'\n",
      " 'SaturnVUE' 'ToyotaAvalon' 'ToyotaTacoma' 'MazdaMAZDA6' 'DodgeDart'\n",
      " 'ChevroletSuburban' 'NissanXterra' 'KiaForte' 'ToyotaHighlander'\n",
      " 'HyundaiSanta Fe' 'FordFocus' 'InfinitiQ50' 'SubaruImpreza' 'ScionxB'\n",
      " 'FordFiesta' 'HondaRidgeline' 'BMW5-series' 'HondaPilot' 'FordFusion'\n",
      " 'BuickRegal' 'DodgeCaravan' 'Mercedes-BenzE-Class' 'NissanRogue'\n",
      " 'Chrysler200' 'VolvoS80' 'BuickEnclave' 'DodgeNitro' 'ChevroletCavalier'\n",
      " 'NissanPathfinder' 'FordEscape' 'NissanMurano' 'KiaSportage' 'HondaHR-V'\n",
      " 'NissanMaxima' 'BuickLucerne' 'ChevroletImpala' 'MazdaCX-9' 'AcuraMDX'\n",
      " 'InfinitiFX' 'JeepCherokee' 'HyundaiGenesis' 'LincolnTown Car'\n",
      " 'HyundaiAccent' 'VolkswagenPassat' 'PontiacTorrent' 'ScionxD'\n",
      " 'ChevroletTahoe' 'LexusNX' 'ChevroletEquinox' 'ChevroletVolt' 'SaturnIon'\n",
      " 'BMWX5' 'SubaruOutback' 'KiaRio' 'MitsubishiOutlander' 'ToyotaYaris'\n",
      " 'AudiA3' 'LexusGS' 'ChryslerPT Cruiser' 'ToyotaMatrix' 'VolkswagenGolf'\n",
      " 'Volkswagene-Golf' 'PontiacGrand Prix' 'AcuraTLX' 'MitsubishiLancer'\n",
      " 'Land RoverRange Rover' 'VolkswagenRoutan' 'Toyota4Runner' 'HummerH2'\n",
      " 'AcuraRLX' 'NissanQuest' 'ToyotaCamry Hybrid' 'ToyotaPrius C' 'KiaSedona'\n",
      " 'MitsubishiGalant' 'MazdaMAZDA5' 'VolkswagenJetta SportWagen'\n",
      " 'Mercedes-BenzR-Class' 'ChevroletAveo' 'CadillacCTS' 'LexusRX'\n",
      " 'SubaruBaja' 'AcuraTSX' 'ScioniA' 'ToyotaSequoia' 'VolkswagenTiguan'\n",
      " 'ScionxA' 'AcuraTL' 'InfinitiJX' 'SaturnSL2' 'MercuryMariner'\n",
      " 'LexusCT Hybrid' 'HyundaiTucson' 'ToyotaTundra' 'SubaruWRX' 'JeepWrangler'\n",
      " 'PorscheCayenne' 'KiaSorento' 'MazdaCX-5' 'LexusGX' 'NissanAltima Hybrid'\n",
      " 'NissanLEAF' 'Fiat500L' 'HondaElement' 'Mercedes-BenzGL-Class'\n",
      " 'JeepLiberty' 'GMCCanyon' 'KiaBorrego' 'TeslaModel S' 'Chrysler300'\n",
      " 'ChevroletCobalt' 'FordTaurus' 'SubaruLegacy' 'Mercedes-BenzML 350'\n",
      " 'JaguarXF' 'HondaFit' 'ChevroletHHR' 'ChevroletSpark' 'LincolnNavigator L'\n",
      " 'MazdaTribute' 'ToyotaPrius+' 'DodgeMagnum' 'FordEdge' 'CadillacSRX'\n",
      " 'FordEscape Hybrid' 'HyundaiXG350' 'KiaSpectra' 'FordC-Max Hybrid'\n",
      " 'AudiQ5' 'VolvoS40' 'FordExplorer' 'Mercedes-BenzGLK-Class'\n",
      " 'LincolnNavigator' 'Mercedes-BenzM-Class' 'DodgeCaliber' 'HyundaiAzera'\n",
      " 'CadillacATS' 'ChevroletTrailblazer' 'DodgeRam 1500' 'AudiQ7' 'InfinitiM'\n",
      " 'HondaCrosstour' 'MiniCountryman S' 'JeepPatriot' 'ToyotaVenza' 'BMWX6'\n",
      " 'HondaAccord Hybrid' 'MiniCooper' 'MitsubishiMontero' 'LexusGS Hybrid'\n",
      " 'MitsubishiEndeavor' 'BuickVerano' 'ChevroletSonic' 'Mercedes-BenzS-Class'\n",
      " 'ChryslerSebring' 'VolvoV50' 'VolvoXC90' 'GMCEnvoy' 'ChevroletCaptiva'\n",
      " 'LexusLS' 'Mercedes-BenzCLA-Class' 'Saab5-Sep' 'SuzukiXL7' 'InfinitiEX'\n",
      " 'CadillacXTS' 'ChevroletBlazer' 'Mercedes-BenzCLS-Class' 'JaguarXJ'\n",
      " 'ChevroletSilverado 1500' 'NissanJuke' 'SciontC' 'LincolnMKZ'\n",
      " 'Mercedes-BenzGLA-Class' 'Mercedes-BenzML Class' 'MitsubishiMirage'\n",
      " 'HyundaiVeloster' 'DodgeStratus' 'GMCAcadia' 'BMW4-series Gran Coupe'\n",
      " 'MercuryGrand Marquis' 'ChevroletAvalanche' 'FordTransit Connect'\n",
      " 'FordF-250' 'VolkswagenGLI' 'LincolnMKS' 'VolkswagenTouareg'\n",
      " 'JeepRenegade' 'AcuraILX' 'BicycleDelivery' 'HyundaiSanta Fe Sport'\n",
      " 'GMCYukon' 'FordTaurus X' 'HummerH3' 'DodgeGrand Caravan' 'Chrysler300 H'\n",
      " 'NissanFrontier' 'AudiA6' 'DodgeDakota' 'FordC-Max' 'NissanTitan'\n",
      " 'PontiacVibe' 'BMWX3' 'ChevroletTrax' 'LincolnMKC' 'AudiS4'\n",
      " 'ChevroletUplander' 'NissanCube' 'MazdaCX-7' 'FordMustang' 'VolvoV70'\n",
      " 'BMW6-series Gran Coupe' 'MazdaMAZDA2' 'VolkswagenCC' 'GMCSierra'\n",
      " 'VolkswagenRabbit' 'ToyotaFJ Cruiser' 'BuickLaCrosse' 'JaguarX-Type'\n",
      " 'VolvoXC70' 'AcuraRL' 'BMWi3' 'AutobotOptimus Prime' 'InfinitiI' 'BMWX1'\n",
      " 'PontiacGrand Am' 'FordCrown Victoria' 'HyundaiEntourage' 'GMCSierra 1500'\n",
      " 'JeepCommander' 'ChevroletColorado' 'MazdaMPV' 'MiniCountryman'\n",
      " 'FordFreestar' 'SubaruTribeca' 'LexusHS Hybrid' 'Ford500' 'SaturnAura'\n",
      " 'InfinitiQX60' 'SuzukiKizashi' 'DodgeRam 2500' 'VolvoS60' 'Saab3-Sep'\n",
      " 'CadillacSTS' 'VolvoXC60' 'ChevroletSilverado 2500HD' 'InfinitiQX56'\n",
      " 'KiaK900' 'PontiacG3' 'SaturnL300' 'Land RoverLand Rover' 'InfinitiQ45'\n",
      " 'SaturnSL1' 'NissanArmada' 'BuickRendezvous' 'ChevroletTracker'\n",
      " 'JaguarS-Type' 'IsuzuRodeo' 'BuickRainier' 'BikeBicycle' 'AudiAllroad'\n",
      " 'HyundaiEquus' 'ToyotaEcho' 'SuzukiVitara' 'BuickLeSabre' 'MaseratiGhibli'\n",
      " 'CadillacDeVille' 'LincolnMKT' 'HyundaiVeracruz' 'BuickEncore'\n",
      " 'ChevroletVenture' 'SuzukiGrand Vitara' 'ChevroletCamaro'\n",
      " 'VolkswagenBeetle' 'BentleyContinental' 'FordF350' 'MazdaProtege'\n",
      " 'LexusLX' 'MercuryMonterey' 'InfinitiQX4' 'AudiQ3' 'LincolnZephyr'\n",
      " 'ToyotaCamry Solara' 'LincolnMKX' 'KiaAmanti' 'AudiA8' 'FordFive Hundred'\n",
      " 'ChevroletSSR' 'SuzukiForenza' 'ChryslerVoyager' 'InfinitiQ40'\n",
      " 'InfinitiQX50' 'DodgeNeon' 'ChryslerAspen' 'GMCSafari' 'KiaRondo'\n",
      " 'Land RoverLR4' 'WalkerDelivery' 'VolkswagenJetta Hybrid' 'SaturnOutlook'\n",
      " 'ScionFR-S' 'Mercedes-BenzMetris' 'SuzukiSX4' 'MercuryMountaineer'\n",
      " 'ChevroletClassic' 'FordE-150 Cargo - WAV' 'FordF-350' 'OldsmobileBravada'\n",
      " 'ChevroletSilverado 1500 4door' 'LincolnAviator' 'AcuraZDX' 'KiaCadenza'\n",
      " 'ChevroletPrizm' 'ChryslerPacifica']\n"
     ]
    }
   ],
   "source": [
    "vehicle = df_va['vehicle_make'] + df_va['vehicle_model']\n",
    "print vehicle.unique()"
   ]
  },
  {
   "cell_type": "markdown",
   "metadata": {},
   "source": [
    "Separate predictors from target variable, and split the dataset 70-30"
   ]
  },
  {
   "cell_type": "code",
   "execution_count": 67,
   "metadata": {
    "collapsed": false
   },
   "outputs": [
    {
     "name": "stderr",
     "output_type": "stream",
     "text": [
      "/Users/iglopezfrancos/anaconda/lib/python2.7/site-packages/ipykernel/__main__.py:2: FutureWarning: using '-' to provide set differences with Indexes is deprecated, use .difference()\n",
      "  from ipykernel import kernelapp as app\n"
     ]
    }
   ],
   "source": [
    "import random\n",
    "X = df_va[df_va.columns - ['started_driving','signup_os','signup_channel','city_name', 'vehicle_make','vehicle_model', \\\n",
    "                     'city_Berton', 'device_other','channel_Organic', 'v_make_Acura']]  #Remove one of the labels from each categorical var.\n",
    "Y = df_va['started_driving']\n",
    "rows = random.sample(df_va.index, int(len(df_va)*.70))\n",
    "x_train, y_train = X.ix[rows],Y.ix[rows]\n",
    "x_test,y_test  = X.drop(rows),Y.drop(rows)"
   ]
  },
  {
   "cell_type": "code",
   "execution_count": 69,
   "metadata": {
    "collapsed": false
   },
   "outputs": [],
   "source": [
    "from sklearn.ensemble import GradientBoostingClassifier\n",
    "from sklearn.grid_search import GridSearchCV\n",
    "\n",
    "param_grid = {'n_estimators': [200],\n",
    "          'learning_rate': [0.1, 0.05],\n",
    "          'max_depth': [1, 4, 6],\n",
    "          'min_samples_leaf': [1],\n",
    "          'max_features': [1.0, 0.5, 0.1],\n",
    "          'subsample': [1.0, 0.5, 0.1]\n",
    "         }\n",
    "\n",
    "gbm_model_va = GradientBoostingClassifier()\n",
    "gbm_cv_model_va = GridSearchCV(gbm_model_va, param_grid, scoring = \"f1\").fit(x_train, y_train)"
   ]
  },
  {
   "cell_type": "code",
   "execution_count": 71,
   "metadata": {
    "collapsed": false
   },
   "outputs": [
    {
     "data": {
      "text/plain": [
       "{'learning_rate': 0.1,\n",
       " 'max_depth': 6,\n",
       " 'max_features': 0.5,\n",
       " 'min_samples_leaf': 1,\n",
       " 'n_estimators': 200,\n",
       " 'subsample': 0.1}"
      ]
     },
     "execution_count": 71,
     "metadata": {},
     "output_type": "execute_result"
    }
   ],
   "source": [
    "gbm_cv_model_va.best_params_"
   ]
  },
  {
   "cell_type": "code",
   "execution_count": 72,
   "metadata": {
    "collapsed": true
   },
   "outputs": [],
   "source": [
    "param_best = gbm_cv_model_va.best_params_"
   ]
  },
  {
   "cell_type": "code",
   "execution_count": 73,
   "metadata": {
    "collapsed": true
   },
   "outputs": [],
   "source": [
    "gbm_model_best = GradientBoostingClassifier(**param_best).fit(x_train, y_train)"
   ]
  },
  {
   "cell_type": "code",
   "execution_count": 74,
   "metadata": {
    "collapsed": false
   },
   "outputs": [
    {
     "name": "stdout",
     "output_type": "stream",
     "text": [
      "F1 score: 0.997154240182\n",
      "Precision: 0.999429549344\n",
      "Recall: 0.994889267462\n",
      "Accuracy: 0.997454175153\n"
     ]
    }
   ],
   "source": [
    "pred = gbm_model_best.predict(x_test)\n",
    "print \"F1 score:\", f1_score(y_test, pred)\n",
    "print \"Precision:\", precision_score(y_test, pred)\n",
    "print \"Recall:\", recall_score(y_test, pred)\n",
    "print \"Accuracy:\", accuracy_score(y_test, pred)"
   ]
  },
  {
   "cell_type": "code",
   "execution_count": 75,
   "metadata": {
    "collapsed": false
   },
   "outputs": [
    {
     "data": {
      "text/plain": [
       "<matplotlib.text.Text at 0x122be3a10>"
      ]
     },
     "execution_count": 75,
     "metadata": {},
     "output_type": "execute_result"
    },
    {
     "data": {
      "image/png": "[encoded data removed]",
      "text/plain": [
       "<matplotlib.figure.Figure at 0x120d468d0>"
      ]
     },
     "metadata": {},
     "output_type": "display_data"
    }
   ],
   "source": [
    "import matplotlib.pyplot as plt\n",
    "\n",
    "# compute test set deviance\n",
    "test_score = np.zeros((param_best['n_estimators'],), dtype=np.float64)\n",
    "\n",
    "for i, y_pred in enumerate(gbm_model_best.staged_decision_function(x_test)):\n",
    "    test_score[i] = gbm_model_best.loss_(y_test, y_pred)\n",
    "\n",
    "plt.figure(figsize=(12, 6))\n",
    "plt.subplot(1, 1, 1)\n",
    "plt.title('Deviance')\n",
    "plt.plot(np.arange(param_best['n_estimators']) + 1, gbm_model_best.train_score_, 'b-',\n",
    "                label='Training Set Deviance')\n",
    "plt.plot(np.arange(param_best['n_estimators']) + 1, test_score, 'r-',\n",
    "                label='Test Set Deviance')\n",
    "plt.legend(loc='upper right')\n",
    "plt.xlabel('Boosting Iterations')\n",
    "plt.ylabel('Deviance')"
   ]
  },
  {
   "cell_type": "code",
   "execution_count": 76,
   "metadata": {
    "collapsed": false
   },
   "outputs": [
    {
     "data": {
      "text/plain": [
       "array([[2166,    1],\n",
       "       [   9, 1752]])"
      ]
     },
     "execution_count": 76,
     "metadata": {},
     "output_type": "execute_result"
    }
   ],
   "source": [
    "cm = confusion_matrix(y_test, pred)\n",
    "cm"
   ]
  },
  {
   "cell_type": "code",
   "execution_count": 79,
   "metadata": {
    "collapsed": false
   },
   "outputs": [
    {
     "data": {
      "text/html": [
       "<div>\n",
       "<table border=\"1\" class=\"dataframe\">\n",
       "  <thead>\n",
       "    <tr style=\"text-align: right;\">\n",
       "      <th></th>\n",
       "      <th>Features</th>\n",
       "      <th>Importance Score</th>\n",
       "    </tr>\n",
       "  </thead>\n",
       "  <tbody>\n",
       "    <tr>\n",
       "      <th>4</th>\n",
       "      <td>days_since_signup</td>\n",
       "      <td>0.423092</td>\n",
       "    </tr>\n",
       "    <tr>\n",
       "      <th>54</th>\n",
       "      <td>vehicle_year</td>\n",
       "      <td>0.166807</td>\n",
       "    </tr>\n",
       "    <tr>\n",
       "      <th>0</th>\n",
       "      <td>channel_Paid</td>\n",
       "      <td>0.051915</td>\n",
       "    </tr>\n",
       "    <tr>\n",
       "      <th>1</th>\n",
       "      <td>channel_Referral</td>\n",
       "      <td>0.043705</td>\n",
       "    </tr>\n",
       "    <tr>\n",
       "      <th>6</th>\n",
       "      <td>device_ios web</td>\n",
       "      <td>0.036701</td>\n",
       "    </tr>\n",
       "    <tr>\n",
       "      <th>7</th>\n",
       "      <td>device_mac</td>\n",
       "      <td>0.034359</td>\n",
       "    </tr>\n",
       "    <tr>\n",
       "      <th>5</th>\n",
       "      <td>device_android web</td>\n",
       "      <td>0.032892</td>\n",
       "    </tr>\n",
       "    <tr>\n",
       "      <th>2</th>\n",
       "      <td>city_Strark</td>\n",
       "      <td>0.031706</td>\n",
       "    </tr>\n",
       "    <tr>\n",
       "      <th>22</th>\n",
       "      <td>v_make_GMC</td>\n",
       "      <td>0.024895</td>\n",
       "    </tr>\n",
       "    <tr>\n",
       "      <th>23</th>\n",
       "      <td>v_make_Honda</td>\n",
       "      <td>0.022936</td>\n",
       "    </tr>\n",
       "  </tbody>\n",
       "</table>\n",
       "</div>"
      ],
      "text/plain": [
       "              Features  Importance Score\n",
       "4    days_since_signup          0.423092\n",
       "54        vehicle_year          0.166807\n",
       "0         channel_Paid          0.051915\n",
       "1     channel_Referral          0.043705\n",
       "6       device_ios web          0.036701\n",
       "7           device_mac          0.034359\n",
       "5   device_android web          0.032892\n",
       "2          city_Strark          0.031706\n",
       "22          v_make_GMC          0.024895\n",
       "23        v_make_Honda          0.022936"
      ]
     },
     "execution_count": 79,
     "metadata": {},
     "output_type": "execute_result"
    }
   ],
   "source": [
    "features = X.columns\n",
    "feature_importances = gbm_model_best.feature_importances_\n",
    "\n",
    "features_df = pd.DataFrame({'Features': features, 'Importance Score': feature_importances})\n",
    "features_df.sort_values('Importance Score', inplace=True, ascending=False)\n",
    "\n",
    "features_df.head(10)"
   ]
  },
  {
   "cell_type": "markdown",
   "metadata": {},
   "source": [
    "This time, with the dataset of just those drivers that already registerd their vehicle, the model perfoms really good and generalizes well. \n",
    "We observe that the most important variables are days_since_signup, vehicle_year and channel. "
   ]
  },
  {
   "cell_type": "code",
   "execution_count": null,
   "metadata": {
    "collapsed": true
   },
   "outputs": [],
   "source": []
  }
 ],
 "metadata": {
  "kernelspec": {
   "display_name": "Python 2",
   "language": "python",
   "name": "python2"
  },
  "language_info": {
   "codemirror_mode": {
    "name": "ipython",
    "version": 2
   },
   "file_extension": ".py",
   "mimetype": "text/x-python",
   "name": "python",
   "nbconvert_exporter": "python",
   "pygments_lexer": "ipython2",
   "version": "2.7.11"
  }
 },
 "nbformat": 4,
 "nbformat_minor": 0
}
